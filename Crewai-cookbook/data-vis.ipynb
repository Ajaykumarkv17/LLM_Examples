{
 "cells": [
  {
   "cell_type": "markdown",
   "metadata": {},
   "source": [
    "# Using CrewAI to Generate Plots from Data\n",
    "\n",
    "This notebook demonstrates how to use CrewAI to create a multi-agent system that can generate visualizations from a CSV-like dataset based on natural language prompts. \n",
    "\n",
    "**Workflow:**\n",
    "\n",
    "1.  **User Prompt:** The user provides a natural language prompt describing the desired plot (e.g., 'Plot Value1 by Category', 'Show distribution of Value2').\n",
    "2.  **Prompt Analysis Agent:** This agent analyzes the prompt to determine the type of plot needed (e.g., bar chart, histogram, scatter plot) and the data columns to be used.\n",
    "3.  **Plotting Agent:** This agent takes the analysis from the Prompt Analysis Agent and generates the plot using Matplotlib or Seaborn. The plot is then displayed in the notebook.\n",
    "\n",
    "This approach allows users to generate visualizations without writing any code, simply by describing what they want to see."
   ]
  },
  {
   "cell_type": "markdown",
   "metadata": {},
   "source": [
    "## 1. Install and Import Libraries"
   ]
  },
  {
   "cell_type": "code",
   "execution_count": null,
   "metadata": {},
   "outputs": [],
   "source": [
    "!pip install -q crewai pandas matplotlib seaborn"
   ]
  },
  {
   "cell_type": "code",
   "execution_count": null,
   "metadata": {},
   "outputs": [],
   "source": [
    "import pandas as pd\n",
    "import matplotlib.pyplot as plt\n",
    "import seaborn as sns\n",
    "from crewai import Agent, Task, Crew, Process\n",
    "import os\n",
    "\n",
    "# Set up a dummy API key for CrewAI if it's not already set\n",
    "# IMPORTANT: Replace \"YOUR_API_KEY\" with your actual OpenAI API key \n",
    "# or configure for your chosen LLM provider.\n",
    "os.environ[\"OPENAI_API_KEY\"] = \"YOUR_API_KEY\"\n",
    "\n",
    "# Ensure plots are displayed inline in the notebook\n",
    "%matplotlib inline\n",
    "\n",
    "print(\"Libraries imported.\")"
   ]
  },
  {
   "cell_type": "markdown",
   "metadata": {},
   "source": [
    "**Note:** Replace `\"YOUR_API_KEY\"` with your actual OpenAI API key if you are using a model that requires it. For local models or other providers, ensure your environment is configured correctly (e.g., `OPENAI_API_BASE_URL` for local models)."
   ]
  },
  {
   "cell_type": "markdown",
   "metadata": {},
   "source": [
    "## 2. Define Sample Dataset\n",
    "\n",
    "We'll create a simple dataset using Pandas to simulate data you might load from a CSV file."
   ]
  },
  {
   "cell_type": "code",
   "execution_count": null,
   "metadata": {},
   "outputs": [],
   "source": [
    "data = {\n",
    "    'Category': ['A', 'B', 'A', 'C', 'B', 'A', 'C', 'C', 'B', 'A'],\n",
    "    'Value1': [10, 15, 12, 18, 20, 11, 16, 17, 19, 13],\n",
    "    'Value2': [25, 30, 22, 35, 40, 26, 32, 33, 38, 28],\n",
    "    'Date': pd.to_datetime([\n",
    "        '2023-01-01', '2023-01-02', '2023-01-03', '2023-01-04', '2023-01-05',\n",
    "        '2023-01-06', '2023-01-07', '2023-01-08', '2023-01-09', '2023-01-10'\n",
    "    ])\n",
    "}\n",
    "df = pd.DataFrame(data)\n",
    "\n",
    "print(\"Sample DataFrame:\")\n",
    "print(df.head())"
   ]
  },
  {
   "cell_type": "markdown",
   "metadata": {},
   "source": [
    "## 3. Define CrewAI Agents\n",
    "\n",
    "We need two agents for this task:\n",
    "\n",
    "1.  **PromptAnalysisAgent:** Analyzes the user's natural language prompt to determine the plot type and data columns.\n",
    "2.  **PlottingAgent:** Generates the plot based on the analysis from the first agent."
   ]
  },
  {
   "cell_type": "code",
   "execution_count": null,
   "metadata": {},
   "outputs": [],
   "source": [
    "# Define the Prompt Analysis Agent\n",
    "prompt_analyzer = Agent(\n",
    "    role='Prompt Analysis Expert',\n",
    "    goal=f\"\"\"Analyze the user's natural language prompt to determine the required plot type \n",
    "    (e.g., bar, scatter, line, histogram, box) and the specific data columns to be used from the dataframe. \n",
    "    The available columns are: {list(df.columns)}.\n",
    "    Provide the output as a concise summary string, for example: \n",
    "    'Plot type: bar, X-axis: Category, Y-axis: Value1' or 'Plot type: histogram, Data: Value2'.\"\"\",\n",
    "    backstory=f\"\"\"You are an expert in understanding data visualization requests. \n",
    "    You can interpret natural language and identify the key components needed to generate a plot. \n",
    "    You are familiar with various plot types like bar charts, scatter plots, line charts, histograms, and box plots. \n",
    "    The available data columns are {list(df.columns)}.\"\"\",\n",
    "    verbose=True,\n",
    "    allow_delegation=False\n",
    "    # llm=your_llm_instance, # Optionally specify an LLM instance, e.g., for local models\n",
    ")\n",
    "\n",
    "# Define the Plotting Agent\n",
    "plot_generator = Agent(\n",
    "    role='Data Visualization Specialist',\n",
    "    goal=f\"\"\"Generate a plot using Matplotlib or Seaborn based on the provided analysis. \n",
    "    The analysis will specify the plot type, X-axis, Y-axis, or data for distribution plots. \n",
    "    The available columns in the dataframe are: {list(df.columns)}. \n",
    "    You MUST ensure the plot is generated and displayed. \n",
    "    Use `plt.show()` after generating a plot to ensure it displays. \n",
    "    Return a success message upon generating the plot.\"\"\",\n",
    "    backstory=f\"\"\"You are a specialist in creating data visualizations using Python libraries \n",
    "    like Matplotlib and Seaborn. You take instructions specifying plot type and data columns \n",
    "    and generate clear, informative plots. The data is available in a pandas DataFrame named `df` \n",
    "    which has the columns: {list(df.columns)}. You must use this `df` for plotting.\"\"\",\n",
    "    verbose=True,\n",
    "    allow_delegation=False\n",
    "    # llm=your_llm_instance, # Optionally specify an LLM instance\n",
    ")\n",
    "\n",
    "print(\"Agents defined.\")"
   ]
  },
  {
   "cell_type": "markdown",
   "metadata": {},
   "source": [
    "## 4. Define Tasks\n",
    "\n",
    "Now, let's define the tasks for our agents."
   ]
  },
  {
   "cell_type": "code",
   "execution_count": null,
   "metadata": {},
   "outputs": [],
   "source": [
    "# Task for the Prompt Analysis Agent\n",
    "analysis_task = Task(\n",
    "    description=\"Analyze the user prompt: '{user_prompt}' and provide a plot specification. \"\n",
    "                f\"The DataFrame `df` has columns: {list(df.columns)}.\",\n",
    "    expected_output=\"A concise summary string specifying the plot type, X-axis, and Y-axis or data for the plot. \"\n",
    "                    \"For example: 'Plot type: bar, X-axis: Category, Y-axis: Value1' or 'Plot type: histogram, Data: Value2'.\",\n",
    "    agent=prompt_analyzer\n",
    ")\n",
    "\n",
    "# Task for the Plotting Agent\n",
    "plotting_task = Task(\n",
    "    description=\"Generate a plot based on the analysis from the prompt_analyzer. \"\n",
    "                \"Use the pandas DataFrame `df` for plotting. Ensure the plot is displayed. \"\n",
    "                f\"The DataFrame `df` (with columns {list(df.columns)}) is already loaded and available for you to use directly.\",\n",
    "    expected_output=\"A confirmation message that the plot has been generated and displayed, e.g., 'Plot generated and displayed successfully.'.\",\n",
    "    agent=plot_generator,\n",
    "    context=[analysis_task] # Depends on the output of the analysis_task\n",
    ")\n",
    "\n",
    "print(\"Tasks defined.\")"
   ]
  },
  {
   "cell_type": "markdown",
   "metadata": {},
   "source": [
    "### Tool for the Plotting Agent (Code Execution)\n",
    "\n",
    "The `PlottingAgent` needs to execute Python code to generate plots. CrewAI doesn't directly execute plotting code from its agents in a way that renders in a Jupyter notebook by default. We need to provide the agent with a tool that can execute Python code, specifically for plotting. \n",
    "\n",
    "However, for simplicity in this example, we will rely on the agent's LLM to generate the Python code for plotting, and then we will manually execute this code in a separate cell. In a more advanced setup, you could create a custom tool that the agent can use to execute plotting code directly and handle the display.\n",
    "\n",
    "For this notebook, the `PlottingAgent`'s output will be the Python code to generate the plot. We will then take that code and run it.\n",
    "\n",
    "Let's adjust the `PlottingAgent` and its task slightly to reflect that its output should be Python code for plotting."
   ]
  },
  {
   "cell_type": "code",
   "execution_count": null,
   "metadata": {},
   "outputs": [],
   "source": [
    "# Re-define the Plotting Agent to output Python code\n",
    "plot_code_generator = Agent(\n",
    "    role='Python Plotting Code Generator',\n",
    "    goal=f\"\"\"Generate Python code using Matplotlib or Seaborn to create a plot based on the provided analysis. \n",
    "    The analysis will specify the plot type, X-axis, Y-axis, or data for distribution plots. \n",
    "    The available columns in the dataframe are: {list(df.columns)}. \n",
    "    You MUST provide *only* the Python code required to generate the plot. \n",
    "    The DataFrame is named `df`. Ensure the code includes `plt.show()`.\n",
    "    For example, if asked for a bar chart of Value1 by Category, the output should be:\n",
    "    ```python\n",
    "    import matplotlib.pyplot as plt\n",
    "    import seaborn as sns\n",
    "    # df is assumed to be pre-loaded\n",
    "    sns.barplot(x='Category', y='Value1', data=df)\n",
    "    plt.title('Value1 by Category')\n",
    "    plt.xlabel('Category')\n",
    "    plt.ylabel('Value1')\n",
    "    plt.show()\n",
    "    ```\"\"\",\n",
    "    backstory=f\"\"\"You are an expert in writing Python code for data visualizations using \n",
    "    Matplotlib and Seaborn. You take instructions specifying plot type and data columns \n",
    "    and generate clean, executable Python code. The data is available in a pandas DataFrame named `df` \n",
    "    which has the columns: {list(df.columns)}. You must use this `df` in your generated code.\"\"\",\n",
    "    verbose=True,\n",
    "    allow_delegation=False\n",
    ")\n",
    "\n",
    "# Re-define the Plotting Task to expect Python code as output\n",
    "plotting_code_task = Task(\n",
    "    description=\"Generate Python plotting code based on the analysis from the prompt_analyzer. \"\n",
    "                \"Use the pandas DataFrame `df` (available globally) for plotting. \"\n",
    "                f\"The DataFrame `df` has columns {list(df.columns)}.\",\n",
    "    expected_output=\"Complete, executable Python code as a single string to generate the plot using Matplotlib/Seaborn. \"\n",
    "                    \"The code should include necessary imports like `matplotlib.pyplot as plt` and `seaborn as sns`, and use `plt.show()`.\",\n",
    "    agent=plot_code_generator,\n",
    "    context=[analysis_task] # Depends on the output of the analysis_task\n",
    ")\n",
    "\n",
    "print(\"Plotting Agent and Task redefined to output Python code.\")"
   ]
  },
  {
   "cell_type": "markdown",
   "metadata": {},
   "source": [
    "## 5. Assemble and Run the Crew\n",
    "\n",
    "Now we create the Crew, add our agents and tasks, and kick off the process."
   ]
  },
  {
   "cell_type": "code",
   "execution_count": null,
   "metadata": {},
   "outputs": [],
   "source": [
    "# Assemble the crew with the updated plotting task\n",
    "plot_crew = Crew(\n",
    "    agents=[prompt_analyzer, plot_code_generator],\n",
    "    tasks=[analysis_task, plotting_code_task],\n",
    "    process=Process.sequential,\n",
    "    verbose=2 # Shows agent actions and tool usage\n",
    ")\n",
    "\n",
    "# Function to run the crew and execute the generated code\n",
    "def generate_and_display_plot(user_prompt):\n",
    "    print(f\"\\n--- Running Crew for prompt: '{user_prompt}' ---\")\n",
    "    inputs = {'user_prompt': user_prompt}\n",
    "    result = plot_crew.kickoff(inputs=inputs)\n",
    "    \n",
    "    print(\"\\n--- Crew Execution Finished ---\")\n",
    "    print(\"\\nAnalysis Result (from analysis_task):\")\n",
    "    # The analysis_task is the first task, its result is stored here after crew run if tasks share context\n",
    "    # However, the 'result' variable from kickoff() will be the result of the *last* task.\n",
    "    # To get intermediate task results, you might need to access them differently or ensure they are passed effectively.\n",
    "    # For this structure, plot_crew.tasks[0].output.raw_output might hold it after execution.\n",
    "    if plot_crew.tasks[0].output:\n",
    "        print(plot_crew.tasks[0].output.raw_output)\n",
    "    else:\n",
    "        print(\"No direct output from analysis task available this way.\")\n",
    "\n",
    "    print(\"\\nGenerated Plotting Code (from plotting_code_task):\")\n",
    "    print(result) # This 'result' is the output of the last task (plotting_code_task)\n",
    "    \n",
    "    print(\"\\n--- Executing Generated Code --- \")\n",
    "    if result and '```python' in result:\n",
    "        # Extract code if it's in a markdown block\n",
    "        code_to_execute = result.split('```python')[1].split('```')[0].strip()\n",
    "    elif result:\n",
    "        code_to_execute = result.strip()\n",
    "    else:\n",
    "        print(\"No code generated.\")\n",
    "        return\n",
    "    \n",
    "    try:\n",
    "        # Make df available to the executed code\n",
    "        # plt and sns are imported within the notebook cell already, \n",
    "        # but the generated code might re-import them, which is fine.\n",
    "        exec(code_to_execute, {'df': df, 'plt': plt, 'sns': sns})\n",
    "    except Exception as e:\n",
    "        print(f\"Error executing generated code: {e}\")\n",
    "\n",
    "print(\"Crew defined. Ready to run.\")"
   ]
  },
  {
   "cell_type": "markdown",
   "metadata": {},
   "source": [
    "## 6. Run with Example Prompts"
   ]
  },
  {
   "cell_type": "code",
   "execution_count": null,
   "metadata": {},
   "outputs": [],
   "source": [
    "# Example 1: Bar chart\n",
    "generate_and_display_plot(\"Show me a bar chart of Value1 for each Category\")"
   ]
  },
  {
   "cell_type": "code",
   "execution_count": null,
   "metadata": {},
   "outputs": [],
   "source": [
    "# Example 2: Histogram\n",
    "generate_and_display_plot(\"What is the distribution of Value2?\")"
   ]
  },
  {
   "cell_type": "code",
   "execution_count": null,
   "metadata": {},
   "outputs": [],
   "source": [
    "# Example 3: Scatter plot\n",
    "generate_and_display_plot(\"Plot Value1 against Value2 as a scatter plot\")"
   ]
  },
  {
   "cell_type": "code",
   "execution_count": null,
   "metadata": {},
   "outputs": [],
   "source": [
    "# Example 4: Line chart (if meaningful with the data)\n",
    "# This might not be the best plot for the current data, but let's see what the agent does.\n",
    "generate_and_display_plot(\"Show the trend of Value1 over Date as a line chart\")"
   ]
  },
  {
   "cell_type": "markdown",
   "metadata": {},
   "source": [
    "## 7. Conclusion\n",
    "\n",
    "This notebook demonstrated a basic CrewAI setup to interpret natural language prompts and generate Python code for data visualizations. \n",
    "\n",
    "**Key Learnings:**\n",
    "*   **Agent Roles:** Defining clear roles and goals for agents is crucial.\n",
    "*   **Task Definition:** Tasks should be specific and provide necessary context (like available data columns).\n",
    "*   **Output Handling:** The output of one agent (analysis) can be used as input for another (plotting code generation).\n",
    "*   **Code Execution:** For tasks like plotting, the LLM can generate code, which then needs to be executed. In this notebook, we did this manually in the `generate_and_display_plot` function. For more robust solutions, custom tools for code execution within CrewAI can be developed.\n",
    "*   **LLM Dependence:** The quality of the generated code and analysis heavily depends on the capabilities of the underlying LLM.\n",
    "\n",
    "**Further Enhancements:**\n",
    "*   **Error Handling:** Implement more sophisticated error handling if the LLM fails to understand the prompt or generates incorrect code.\n",
    "*   **Custom Tools:** Develop a custom CrewAI tool that allows the `PlottingAgent` to directly execute plotting code and save/display the figure, rather than just outputting the code string.\n",
    "*   **More Complex Prompts:** Train or prompt the agents to handle more complex requests (e.g., multiple plots, subplots, specific styling).\n",
    "*   **Interactive Data Source:** Allow users to specify a CSV file path instead of using a fixed DataFrame."
   ]
  }
 ],
 "metadata": {
  "kernelspec": {
   "display_name": "Python 3",
   "language": "python",
   "name": "python3"
  },
  "language_info": {
   "codemirror_mode": {
    "name": "ipython",
    "version": 3
   },
   "file_extension": ".py",
   "mimetype": "text/x-python",
   "name": "python",
   "nbconvert_exporter": "python",
   "pygments_lexer": "ipython3",
   "version": "3.10.12"
  }
 },
 "nbformat": 4,
 "nbformat_minor": 5
}
