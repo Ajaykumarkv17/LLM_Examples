{
 "cells": [
  {
   "cell_type": "code",
   "execution_count": 1,
   "metadata": {},
   "outputs": [],
   "source": [
    "from groq import Groq\n",
    "import os \n",
    "import json\n",
    "import sqlparse\n",
    "from IPython.display import Markdown\n",
    "import duckdb\n",
    "import glob\n",
    "import yaml"
   ]
  },
  {
   "cell_type": "code",
   "execution_count": 3,
   "metadata": {},
   "outputs": [
    {
     "data": {
      "text/plain": [
       "'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'"
      ]
     },
     "execution_count": 3,
     "metadata": {},
     "output_type": "execute_result"
    }
   ],
   "source": [
    "api_key=os.getenv(\"GROQ_API_KEY\")\n",
    "model = Groq(api_key=api_key)\n",
    "\n",
    "llm=\"llama-3.3-70b-versatile\"\n",
    "\n",
    "api_key"
   ]
  },
  {
   "cell_type": "code",
   "execution_count": 4,
   "metadata": {},
   "outputs": [],
   "source": [
    "system_prompt = '''\n",
    "You are Groq Advisor, and you are tasked with generating SQL queries for DuckDB based on user questions about data stored in two tables derived from CSV files:\n",
    "\n",
    "Table: employees.csv\n",
    "Columns:\n",
    "employee_id (INTEGER): A unique identifier for each employee.\n",
    "name (VARCHAR): The full name of the employee.\n",
    "email (VARCHAR): employee's email address\n",
    "\n",
    "Table: purchases.csv\n",
    "Columns:\n",
    "purchase_id (INTEGER): A unique identifier for each purchase.\n",
    "purchase_date (DATE): Date of purchase\n",
    "employee_id (INTEGER): References the employee_id from the employees table, indicating which employee made the purchase.\n",
    "amount (FLOAT): The monetary value of the purchase.\n",
    "product_name (STRING): The name of the product purchased\n",
    "\n",
    "Given a user's question about this data, write a valid DuckDB SQL query that accurately extracts or calculates the requested information from these tables and adheres to SQL best practices for DuckDB, optimizing for readability and performance where applicable.\n",
    "\n",
    "Here are some tips for writing DuckDB queries:\n",
    "* DuckDB syntax requires querying from the .csv file itself, i.e. employees.csv and purchases.csv. For example: SELECT * FROM employees.csv as employees\n",
    "* All tables referenced MUST be aliased\n",
    "* DuckDB does not implicitly include a GROUP BY clause\n",
    "* CURRENT_DATE gets today's date\n",
    "* Aggregated fields like COUNT(*) must be appropriately named\n",
    "\n",
    "And some rules for querying the dataset:\n",
    "* Never include employee_id in the output - show employee name instead\n",
    "\n",
    "Also note that:\n",
    "* Valid values for product_name include 'Tesla','iPhone' and 'Humane pin'\n",
    "\n",
    "\n",
    "Question:\n",
    "--------\n",
    "{user_question}\n",
    "--------\n",
    "Reminder: Generate a DuckDB SQL to answer to the question:\n",
    "* respond as a valid JSON Document\n",
    "* [Best] If the question can be answered with the available tables: {\"sql\": <sql here>}\n",
    "* If the question cannot be answered with the available tables: {\"error\": <explanation here>}\n",
    "* Ensure that the entire output is returned on only one single line\n",
    "* Keep your query as simple and straightforward as possible; do not use subqueries\n",
    "'''"
   ]
  },
  {
   "cell_type": "code",
   "execution_count": 5,
   "metadata": {},
   "outputs": [],
   "source": [
    "def text_to_sql(client,system_prompt,user_question,model):\n",
    "\n",
    "    completion = client.chat.completions.create(\n",
    "        model = model,\n",
    "        response_format = {\"type\": \"json_object\"},\n",
    "        messages=[\n",
    "            {\n",
    "                \"role\": \"system\",\n",
    "                \"content\": system_prompt\n",
    "            },\n",
    "            {\n",
    "                \"role\": \"user\",\n",
    "                \"content\": user_question\n",
    "            }\n",
    "        ]\n",
    "    )\n",
    "  \n",
    "    return completion.choices[0].message.content"
   ]
  }
 ],
 "metadata": {
  "kernelspec": {
   "display_name": "Python 3",
   "language": "python",
   "name": "python3"
  },
  "language_info": {
   "codemirror_mode": {
    "name": "ipython",
    "version": 3
   },
   "file_extension": ".py",
   "mimetype": "text/x-python",
   "name": "python",
   "nbconvert_exporter": "python",
   "pygments_lexer": "ipython3",
   "version": "3.12.1"
  }
 },
 "nbformat": 4,
 "nbformat_minor": 2
}
