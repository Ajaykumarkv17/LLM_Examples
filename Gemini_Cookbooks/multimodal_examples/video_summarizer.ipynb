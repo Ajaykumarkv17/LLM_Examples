{
 "cells": [
  {
   "cell_type": "code",
   "execution_count": 2,
   "id": "30c4e005",
   "metadata": {},
   "outputs": [],
   "source": [
    "from google import genai\n",
    "import os\n",
    "from dotenv import load_dotenv\n",
    "load_dotenv()\n",
    "API_KEY = os.getenv('GOOGLE_API_KEY')\n",
    "client = genai.Client(api_key=API_KEY)"
   ]
  },
  {
   "cell_type": "code",
   "execution_count": 10,
   "id": "785aefae",
   "metadata": {},
   "outputs": [
    {
     "name": "stdout",
     "output_type": "stream",
     "text": [
      "Download complete.\n"
     ]
    }
   ],
   "source": [
    "import requests\n",
    "\n",
    "url = \"https://upload.wikimedia.org/wikipedia/commons/3/38/WING_IT%21_-_Blender_Open_Movie-full_movie.webm\"\n",
    "path = \"wingit.webm\"\n",
    "\n",
    "response = requests.get(url, stream=True)\n",
    "\n",
    "with open(path, \"wb\") as f:\n",
    "    for chunk in response.iter_content(chunk_size=8192):\n",
    "        if chunk:\n",
    "            f.write(chunk)\n",
    "\n",
    "print(\"Download complete.\")\n",
    "\n"
   ]
  },
  {
   "cell_type": "code",
   "execution_count": 11,
   "id": "cf434533",
   "metadata": {},
   "outputs": [],
   "source": [
    "video_file = client.files.upload(file=path)"
   ]
  },
  {
   "cell_type": "code",
   "execution_count": null,
   "id": "fd8c0784",
   "metadata": {},
   "outputs": [],
   "source": [
    "import time\n",
    "# Wait until the uploaded video is available\n",
    "while video_file.state.name == \"PROCESSING\":\n",
    "  print('.', end='')\n",
    "  time.sleep(5)\n",
    "  video_file = client.files.get(name=video_file.name)\n",
    "\n",
    "if video_file.state.name == \"FAILED\":\n",
    "  raise ValueError(video_file.state.name)"
   ]
  },
  {
   "cell_type": "code",
   "execution_count": null,
   "id": "460b0e64",
   "metadata": {},
   "outputs": [],
   "source": [
    "import cv2\n",
    "import matplotlib.pyplot as plt\n",
    "\n",
    "# Display some of the video content\n",
    "cap = cv2.VideoCapture(path)\n",
    "frame_number = 1000\n",
    "for _ in range(frame_number):\n",
    "    ret, frame = cap.read()\n",
    "frame_rgb = cv2.cvtColor(frame, cv2.COLOR_BGR2RGB)\n",
    "\n",
    "plt.imshow(frame_rgb)\n",
    "plt.axis('off')\n",
    "plt.show()\n",
    "\n",
    "cap.release()\n",
    "     "
   ]
  },
  {
   "cell_type": "code",
   "execution_count": 14,
   "id": "5350f2ab",
   "metadata": {},
   "outputs": [],
   "source": [
    "system_prompt = \"You should provide a quick 2 or 3 sentence summary of what is happening in the video.\""
   ]
  },
  {
   "cell_type": "code",
   "execution_count": null,
   "id": "0e51b88e",
   "metadata": {},
   "outputs": [],
   "source": [
    "from google.genai import types\n",
    "\n",
    "MODEL_ID=\"gemini-2.0-flash\" # @param [\"gemini-2.0-flash-lite\",\"gemini-2.0-flash\",\"gemini-2.5-pro-exp-03-25\"] {\"allow-input\":true, isTemplate: true}\n",
    "response = client.models.generate_content(\n",
    "    model=f\"models/{MODEL_ID}\",\n",
    "    contents=[\n",
    "        \"Summarise this video please.\",\n",
    "        video_file\n",
    "        ],\n",
    "    config=types.GenerateContentConfig(\n",
    "        system_instruction=system_prompt,\n",
    "        ),\n",
    "    )\n",
    "print(response.text)"
   ]
  }
 ],
 "metadata": {
  "kernelspec": {
   "display_name": "Python 3",
   "language": "python",
   "name": "python3"
  },
  "language_info": {
   "codemirror_mode": {
    "name": "ipython",
    "version": 3
   },
   "file_extension": ".py",
   "mimetype": "text/x-python",
   "name": "python",
   "nbconvert_exporter": "python",
   "pygments_lexer": "ipython3",
   "version": "3.12.5"
  }
 },
 "nbformat": 4,
 "nbformat_minor": 5
}
