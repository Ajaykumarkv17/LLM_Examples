{
 "cells": [
  {
   "cell_type": "code",
   "execution_count": 1,
   "metadata": {},
   "outputs": [],
   "source": [
    "import os\n",
    "from dotenv import load_dotenv\n",
    "load_dotenv()\n",
    "os.environ['GOOGLE_API_KEY']=os.getenv('GOOGLE_API_KEY')"
   ]
  },
  {
   "cell_type": "code",
   "execution_count": 3,
   "metadata": {},
   "outputs": [],
   "source": [
    "from google import genai\n",
    "\n",
    "client = genai.Client(http_options= {\n",
    "      'api_version': 'v1alpha'\n",
    "})"
   ]
  },
  {
   "cell_type": "code",
   "execution_count": 4,
   "metadata": {},
   "outputs": [],
   "source": [
    "model_name = \"gemini-2.0-flash-exp\""
   ]
  },
  {
   "cell_type": "code",
   "execution_count": 5,
   "metadata": {},
   "outputs": [],
   "source": [
    "import asyncio\n",
    "import contextlib\n",
    "import json\n",
    "import wave\n",
    "\n",
    "from IPython import display\n",
    "\n",
    "from google import genai\n",
    "from google.genai import types"
   ]
  },
  {
   "cell_type": "code",
   "execution_count": 6,
   "metadata": {},
   "outputs": [],
   "source": [
    "@contextlib.contextmanager\n",
    "def wave_file(filename, channels=1, rate=24000, sample_width=2):\n",
    "    with wave.open(filename, \"wb\") as wf:\n",
    "        wf.setnchannels(channels)\n",
    "        wf.setsampwidth(sample_width)\n",
    "        wf.setframerate(rate)\n",
    "        yield wf"
   ]
  },
  {
   "cell_type": "code",
   "execution_count": 7,
   "metadata": {},
   "outputs": [],
   "source": [
    "\n",
    "import logging\n",
    "logger = logging.getLogger('Live')\n",
    "#logger.setLevel('DEBUG')  # Switch between \"INFO\" and \"DEBUG\" to toggle debug messages.\n",
    "logger.setLevel('INFO')"
   ]
  },
  {
   "cell_type": "code",
   "execution_count": 8,
   "metadata": {},
   "outputs": [],
   "source": [
    "n = 0\n",
    "async def run(prompt, modality=\"TEXT\", tools=None):\n",
    "  global n\n",
    "  if tools is None:\n",
    "    tools=[]\n",
    "\n",
    "  config = {\n",
    "          \"tools\": tools,\n",
    "          \"response_modalities\": [modality]}\n",
    "\n",
    "  async with client.aio.live.connect(model=model_name, config=config) as session:\n",
    "    display.display(display.Markdown(prompt))\n",
    "    display.display(display.Markdown('-------------------------------'))\n",
    "    await session.send(input=prompt, end_of_turn=True)\n",
    "\n",
    "    audio = False\n",
    "    filename = f'audio_{n}.wav'\n",
    "    with wave_file(filename) as wf:\n",
    "      async for response in session.receive():\n",
    "        logger.debug(str(response))\n",
    "        if text:=response.text:\n",
    "          display.display(display.Markdown(text))\n",
    "          continue\n",
    "\n",
    "        if data:=response.data:\n",
    "          print('.', end='')\n",
    "          wf.writeframes(data)\n",
    "          audio = True\n",
    "          continue\n",
    "\n",
    "        server_content = response.server_content\n",
    "        if server_content is not None:\n",
    "          handle_server_content(wf, server_content)\n",
    "          continue\n",
    "\n",
    "        tool_call = response.tool_call\n",
    "        if tool_call is not None:\n",
    "          await handle_tool_call(session, tool_call)\n",
    "\n",
    "\n",
    "  if audio:\n",
    "    display.display(display.Audio(filename, autoplay=True))\n",
    "    n = n+1"
   ]
  },
  {
   "cell_type": "code",
   "execution_count": 9,
   "metadata": {},
   "outputs": [],
   "source": [
    "def handle_server_content(wf, server_content):\n",
    "  model_turn = server_content.model_turn\n",
    "  if model_turn:\n",
    "    for part in model_turn.parts:\n",
    "      executable_code = part.executable_code\n",
    "      if executable_code is not None:\n",
    "        display.display(display.Markdown('-------------------------------'))\n",
    "        display.display(display.Markdown(f'``` python\\n{executable_code.code}\\n```'))\n",
    "        display.display(display.Markdown('-------------------------------'))\n",
    "\n",
    "      code_execution_result = part.code_execution_result\n",
    "      if code_execution_result is not None:\n",
    "        display.display(display.Markdown('-------------------------------'))\n",
    "        display.display(display.Markdown(f'```\\n{code_execution_result.output}\\n```'))\n",
    "        display.display(display.Markdown('-------------------------------'))\n",
    "\n",
    "  grounding_metadata = getattr(server_content, 'grounding_metadata', None)\n",
    "  if grounding_metadata is not None:\n",
    "    display.display(\n",
    "        display.HTML(grounding_metadata.search_entry_point.rendered_content))\n",
    "\n",
    "  return"
   ]
  },
  {
   "cell_type": "code",
   "execution_count": 10,
   "metadata": {},
   "outputs": [],
   "source": [
    "async def handle_tool_call(session, tool_call):\n",
    "  for fc in tool_call.function_calls:\n",
    "    tool_response = types.LiveClientToolResponse(\n",
    "        function_responses=[types.FunctionResponse(\n",
    "            name=fc.name,\n",
    "            id=fc.id,\n",
    "            response={'result':'ok'},\n",
    "        )]\n",
    "    )\n",
    "\n",
    "    print('\\n>>> ', tool_response)\n",
    "    await session.send(input=tool_response)"
   ]
  },
  {
   "cell_type": "code",
   "execution_count": 12,
   "metadata": {},
   "outputs": [
    {
     "data": {
      "text/markdown": [
       "capital of paris?"
      ],
      "text/plain": [
       "<IPython.core.display.Markdown object>"
      ]
     },
     "metadata": {},
     "output_type": "display_data"
    },
    {
     "data": {
      "text/markdown": [
       "-------------------------------"
      ],
      "text/plain": [
       "<IPython.core.display.Markdown object>"
      ]
     },
     "metadata": {},
     "output_type": "display_data"
    },
    {
     "data": {
      "text/markdown": [
       "The"
      ],
      "text/plain": [
       "<IPython.core.display.Markdown object>"
      ]
     },
     "metadata": {},
     "output_type": "display_data"
    },
    {
     "data": {
      "text/markdown": [
       " capital of France is **Paris**.\n"
      ],
      "text/plain": [
       "<IPython.core.display.Markdown object>"
      ]
     },
     "metadata": {},
     "output_type": "display_data"
    }
   ],
   "source": [
    "await run(prompt=\"capital of paris?\", tools=None, modality = \"TEXT\")"
   ]
  },
  {
   "cell_type": "code",
   "execution_count": 13,
   "metadata": {},
   "outputs": [
    {
     "data": {
      "text/markdown": [
       "Turn on the lights"
      ],
      "text/plain": [
       "<IPython.core.display.Markdown object>"
      ]
     },
     "metadata": {},
     "output_type": "display_data"
    },
    {
     "data": {
      "text/markdown": [
       "-------------------------------"
      ],
      "text/plain": [
       "<IPython.core.display.Markdown object>"
      ]
     },
     "metadata": {},
     "output_type": "display_data"
    },
    {
     "data": {
      "text/markdown": [
       "-------------------------------"
      ],
      "text/plain": [
       "<IPython.core.display.Markdown object>"
      ]
     },
     "metadata": {},
     "output_type": "display_data"
    },
    {
     "data": {
      "text/markdown": [
       "``` python\n",
       "print(default_api.turn_on_the_lights())\n",
       "\n",
       "```"
      ],
      "text/plain": [
       "<IPython.core.display.Markdown object>"
      ]
     },
     "metadata": {},
     "output_type": "display_data"
    },
    {
     "data": {
      "text/markdown": [
       "-------------------------------"
      ],
      "text/plain": [
       "<IPython.core.display.Markdown object>"
      ]
     },
     "metadata": {},
     "output_type": "display_data"
    },
    {
     "name": "stdout",
     "output_type": "stream",
     "text": [
      "\n",
      ">>>  function_responses=[FunctionResponse(id='function-call-13881645250001334133', name='turn_on_the_lights', response={'result': 'ok'})]\n"
     ]
    },
    {
     "data": {
      "text/markdown": [
       "-------------------------------"
      ],
      "text/plain": [
       "<IPython.core.display.Markdown object>"
      ]
     },
     "metadata": {},
     "output_type": "display_data"
    },
    {
     "data": {
      "text/markdown": [
       "```\n",
       "{'result': 'ok'}\n",
       "\n",
       "```"
      ],
      "text/plain": [
       "<IPython.core.display.Markdown object>"
      ]
     },
     "metadata": {},
     "output_type": "display_data"
    },
    {
     "data": {
      "text/markdown": [
       "-------------------------------"
      ],
      "text/plain": [
       "<IPython.core.display.Markdown object>"
      ]
     },
     "metadata": {},
     "output_type": "display_data"
    },
    {
     "data": {
      "text/markdown": [
       "OK"
      ],
      "text/plain": [
       "<IPython.core.display.Markdown object>"
      ]
     },
     "metadata": {},
     "output_type": "display_data"
    },
    {
     "data": {
      "text/markdown": [
       "\n"
      ],
      "text/plain": [
       "<IPython.core.display.Markdown object>"
      ]
     },
     "metadata": {},
     "output_type": "display_data"
    }
   ],
   "source": [
    "turn_on_the_lights = {'name': 'turn_on_the_lights'}\n",
    "turn_off_the_lights = {'name': 'turn_off_the_lights'}\n",
    "\n",
    "\n",
    "prompt = \"Turn on the lights\"\n",
    "\n",
    "tools = [\n",
    "    {'function_declarations': [turn_on_the_lights, turn_off_the_lights]}\n",
    "]\n",
    "\n",
    "await run(prompt, tools=tools, modality = \"TEXT\")\n",
    "     "
   ]
  },
  {
   "cell_type": "code",
   "execution_count": 17,
   "metadata": {},
   "outputs": [
    {
     "data": {
      "text/markdown": [
       "Can you compute the prime number between 1 to 100"
      ],
      "text/plain": [
       "<IPython.core.display.Markdown object>"
      ]
     },
     "metadata": {},
     "output_type": "display_data"
    },
    {
     "data": {
      "text/markdown": [
       "-------------------------------"
      ],
      "text/plain": [
       "<IPython.core.display.Markdown object>"
      ]
     },
     "metadata": {},
     "output_type": "display_data"
    },
    {
     "data": {
      "text/markdown": [
       "-------------------------------"
      ],
      "text/plain": [
       "<IPython.core.display.Markdown object>"
      ]
     },
     "metadata": {},
     "output_type": "display_data"
    },
    {
     "data": {
      "text/markdown": [
       "``` python\n",
       "def is_prime(n):\n",
       "    if n <= 1:\n",
       "        return False\n",
       "    if n <= 3:\n",
       "        return True\n",
       "    if n % 2 == 0 or n % 3 == 0:\n",
       "        return False\n",
       "    i = 5\n",
       "    while i * i <= n:\n",
       "        if n % i == 0 or n % (i + 2) == 0:\n",
       "            return False\n",
       "        i += 6\n",
       "    return True\n",
       "\n",
       "primes = [number for number in range(2, 101) if is_prime(number)]\n",
       "print(f'{primes=}')\n",
       "\n",
       "```"
      ],
      "text/plain": [
       "<IPython.core.display.Markdown object>"
      ]
     },
     "metadata": {},
     "output_type": "display_data"
    },
    {
     "data": {
      "text/markdown": [
       "-------------------------------"
      ],
      "text/plain": [
       "<IPython.core.display.Markdown object>"
      ]
     },
     "metadata": {},
     "output_type": "display_data"
    },
    {
     "data": {
      "text/markdown": [
       "-------------------------------"
      ],
      "text/plain": [
       "<IPython.core.display.Markdown object>"
      ]
     },
     "metadata": {},
     "output_type": "display_data"
    },
    {
     "data": {
      "text/markdown": [
       "```\n",
       "primes=[2, 3, 5, 7, 11, 13, 17, 19, 23, 29, 31, 37, 41, 43, 47, 53, 59, 61, 67, 71, 73, 79, 83, 89, 97]\n",
       "\n",
       "```"
      ],
      "text/plain": [
       "<IPython.core.display.Markdown object>"
      ]
     },
     "metadata": {},
     "output_type": "display_data"
    },
    {
     "data": {
      "text/markdown": [
       "-------------------------------"
      ],
      "text/plain": [
       "<IPython.core.display.Markdown object>"
      ]
     },
     "metadata": {},
     "output_type": "display_data"
    },
    {
     "data": {
      "text/markdown": [
       "The"
      ],
      "text/plain": [
       "<IPython.core.display.Markdown object>"
      ]
     },
     "metadata": {},
     "output_type": "display_data"
    },
    {
     "data": {
      "text/markdown": [
       " prime numbers between 1 and 100 are: 2, "
      ],
      "text/plain": [
       "<IPython.core.display.Markdown object>"
      ]
     },
     "metadata": {},
     "output_type": "display_data"
    },
    {
     "data": {
      "text/markdown": [
       "3, 5, 7, 11, 13,"
      ],
      "text/plain": [
       "<IPython.core.display.Markdown object>"
      ]
     },
     "metadata": {},
     "output_type": "display_data"
    },
    {
     "data": {
      "text/markdown": [
       " 17, 19, 23, 29, 31, 37, 41, 43,"
      ],
      "text/plain": [
       "<IPython.core.display.Markdown object>"
      ]
     },
     "metadata": {},
     "output_type": "display_data"
    },
    {
     "data": {
      "text/markdown": [
       " 47, 53, 59, 61, 67, 71, 73, 79,"
      ],
      "text/plain": [
       "<IPython.core.display.Markdown object>"
      ]
     },
     "metadata": {},
     "output_type": "display_data"
    },
    {
     "data": {
      "text/markdown": [
       " 83, 89, and 97.\n"
      ],
      "text/plain": [
       "<IPython.core.display.Markdown object>"
      ]
     },
     "metadata": {},
     "output_type": "display_data"
    }
   ],
   "source": [
    "prompt=\"Can you compute the prime number between 1 to 100\"\n",
    "\n",
    "tools = [\n",
    "    {'code_execution': {}}\n",
    "]\n",
    "\n",
    "await run(prompt, tools=tools, modality=\"TEXT\")"
   ]
  },
  {
   "cell_type": "code",
   "execution_count": 18,
   "metadata": {},
   "outputs": [
    {
     "data": {
      "text/markdown": [
       "Can you use google search tell me about the largest earthquake in california the week of Dec 5 2024?"
      ],
      "text/plain": [
       "<IPython.core.display.Markdown object>"
      ]
     },
     "metadata": {},
     "output_type": "display_data"
    },
    {
     "data": {
      "text/markdown": [
       "-------------------------------"
      ],
      "text/plain": [
       "<IPython.core.display.Markdown object>"
      ]
     },
     "metadata": {},
     "output_type": "display_data"
    },
    {
     "data": {
      "text/markdown": [
       "-------------------------------"
      ],
      "text/plain": [
       "<IPython.core.display.Markdown object>"
      ]
     },
     "metadata": {},
     "output_type": "display_data"
    },
    {
     "data": {
      "text/markdown": [
       "``` python\n",
       "print(google_search.search(queries=[\"largest earthquake in California week of December 5 2024\", \"California earthquakes December 2024\"]))\n",
       "\n",
       "```"
      ],
      "text/plain": [
       "<IPython.core.display.Markdown object>"
      ]
     },
     "metadata": {},
     "output_type": "display_data"
    },
    {
     "data": {
      "text/markdown": [
       "-------------------------------"
      ],
      "text/plain": [
       "<IPython.core.display.Markdown object>"
      ]
     },
     "metadata": {},
     "output_type": "display_data"
    },
    {
     "data": {
      "text/markdown": [
       "-------------------------------"
      ],
      "text/plain": [
       "<IPython.core.display.Markdown object>"
      ]
     },
     "metadata": {},
     "output_type": "display_data"
    },
    {
     "data": {
      "text/markdown": [
       "```\n",
       "Looking up information on Google Search.\n",
       "\n",
       "```"
      ],
      "text/plain": [
       "<IPython.core.display.Markdown object>"
      ]
     },
     "metadata": {},
     "output_type": "display_data"
    },
    {
     "data": {
      "text/markdown": [
       "-------------------------------"
      ],
      "text/plain": [
       "<IPython.core.display.Markdown object>"
      ]
     },
     "metadata": {},
     "output_type": "display_data"
    },
    {
     "data": {
      "text/markdown": [
       "The"
      ],
      "text/plain": [
       "<IPython.core.display.Markdown object>"
      ]
     },
     "metadata": {},
     "output_type": "display_data"
    },
    {
     "data": {
      "text/markdown": [
       " largest earthquake in California during the week of December 5, 202"
      ],
      "text/plain": [
       "<IPython.core.display.Markdown object>"
      ]
     },
     "metadata": {},
     "output_type": "display_data"
    },
    {
     "data": {
      "text/markdown": [
       "4, was a magnitude 7.0 earthquake that occurred offshore of Cape Mend"
      ],
      "text/plain": [
       "<IPython.core.display.Markdown object>"
      ]
     },
     "metadata": {},
     "output_type": "display_data"
    },
    {
     "data": {
      "text/markdown": [
       "ocino on December 5th, 2024, at 10:44 AM local time. Here are some key details about this"
      ],
      "text/plain": [
       "<IPython.core.display.Markdown object>"
      ]
     },
     "metadata": {},
     "output_type": "display_data"
    },
    {
     "data": {
      "text/markdown": [
       " earthquake:\n",
       "\n",
       "*   **Magnitude:** 7.0\n",
       "*   **Date and Time:** December 5, 2024, at "
      ],
      "text/plain": [
       "<IPython.core.display.Markdown object>"
      ]
     },
     "metadata": {},
     "output_type": "display_data"
    },
    {
     "data": {
      "text/markdown": [
       "10:44 AM PST (18:44 UTC)\n",
       "*   **Location:** Offshore of Cape Mendocino, approximately 70 km (45 miles) southwest of Eureka, California, or 98"
      ],
      "text/plain": [
       "<IPython.core.display.Markdown object>"
      ]
     },
     "metadata": {},
     "output_type": "display_data"
    },
    {
     "data": {
      "text/markdown": [
       " km (61 miles) west-southwest of Ferndale, California.\n",
       "*   **Depth:** Approximately 10 km (6 miles) deep, which is considered shallow.\n",
       "*   **Tectonic Setting**: The earthquake"
      ],
      "text/plain": [
       "<IPython.core.display.Markdown object>"
      ]
     },
     "metadata": {},
     "output_type": "display_data"
    },
    {
     "data": {
      "text/markdown": [
       " occurred at the Mendocino Triple Junction, where the Pacific, North America, and Juan de Fuca/Gorda plates meet. The specific fault was along the Mendocino Fracture Zone, a transform boundary where the Juan de Fuca/Gorda Plate is moving eastward relative to the Pacific Plate.\n",
       "*   "
      ],
      "text/plain": [
       "<IPython.core.display.Markdown object>"
      ]
     },
     "metadata": {},
     "output_type": "display_data"
    },
    {
     "data": {
      "text/markdown": [
       "**Tsunami Warning:** A tsunami warning was issued for coastal areas of Northern California and Southern Oregon, including as far south as San Francisco. The warning was canceled about an hour later after it was determined that a destructive tsunami was not likely.\n",
       "*   **Impacts:**\n",
       "    *   Power outages were reported in"
      ],
      "text/plain": [
       "<IPython.core.display.Markdown object>"
      ]
     },
     "metadata": {},
     "output_type": "display_data"
    },
    {
     "data": {
      "text/markdown": [
       " Humboldt County, affecting over 10,000 customers.\n",
       "    *   Some structural damage was reported, including cracked roads in Rio Dell and minor damage to roofs in Ferndale.\n",
       "    *   There were no reports of injuries.\n",
       "*   **Aftershocks:** There were numerous aftershocks"
      ],
      "text/plain": [
       "<IPython.core.display.Markdown object>"
      ]
     },
     "metadata": {},
     "output_type": "display_data"
    },
    {
     "data": {
      "text/markdown": [
       ", with more than 30 occurring throughout the day. The largest aftershock measured 4.3 and occurred near Petrolia. There is a 34% chance of one or more aftershocks larger than magnitude 5 within the next week.\n",
       "\n",
       "This earthquake was one of the largest to impact the North"
      ],
      "text/plain": [
       "<IPython.core.display.Markdown object>"
      ]
     },
     "metadata": {},
     "output_type": "display_data"
    },
    {
     "data": {
      "text/markdown": [
       " Coast since the 1992 M7.2 Cape Mendocino earthquake.\n"
      ],
      "text/plain": [
       "<IPython.core.display.Markdown object>"
      ]
     },
     "metadata": {},
     "output_type": "display_data"
    }
   ],
   "source": [
    "prompt=\"Can you use google search tell me about the largest earthquake in california the week of Dec 5 2024?\"\n",
    "\n",
    "tools = [\n",
    "   {'google_search': {}}\n",
    "]\n",
    "\n",
    "await run(prompt, tools=tools, modality=\"TEXT\")"
   ]
  }
 ],
 "metadata": {
  "kernelspec": {
   "display_name": "Python 3",
   "language": "python",
   "name": "python3"
  },
  "language_info": {
   "codemirror_mode": {
    "name": "ipython",
    "version": 3
   },
   "file_extension": ".py",
   "mimetype": "text/x-python",
   "name": "python",
   "nbconvert_exporter": "python",
   "pygments_lexer": "ipython3",
   "version": "3.12.5"
  }
 },
 "nbformat": 4,
 "nbformat_minor": 2
}
