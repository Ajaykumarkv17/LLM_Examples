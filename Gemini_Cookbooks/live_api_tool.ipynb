{
 "cells": [
  {
   "cell_type": "code",
   "execution_count": 1,
   "metadata": {},
   "outputs": [],
   "source": [
    "import os\n",
    "from dotenv import load_dotenv\n",
    "load_dotenv()\n",
    "os.environ['GOOGLE_API_KEY']=os.getenv('GOOGLE_API_KEY')"
   ]
  },
  {
   "cell_type": "code",
   "execution_count": 3,
   "metadata": {},
   "outputs": [],
   "source": [
    "from google import genai\n",
    "\n",
    "client = genai.Client(http_options= {\n",
    "      'api_version': 'v1alpha'\n",
    "})"
   ]
  },
  {
   "cell_type": "code",
   "execution_count": 4,
   "metadata": {},
   "outputs": [],
   "source": [
    "model_name = \"gemini-2.0-flash-exp\""
   ]
  },
  {
   "cell_type": "code",
   "execution_count": 5,
   "metadata": {},
   "outputs": [],
   "source": [
    "import asyncio\n",
    "import contextlib\n",
    "import json\n",
    "import wave\n",
    "\n",
    "from IPython import display\n",
    "\n",
    "from google import genai\n",
    "from google.genai import types"
   ]
  },
  {
   "cell_type": "code",
   "execution_count": 6,
   "metadata": {},
   "outputs": [],
   "source": [
    "@contextlib.contextmanager\n",
    "def wave_file(filename, channels=1, rate=24000, sample_width=2):\n",
    "    with wave.open(filename, \"wb\") as wf:\n",
    "        wf.setnchannels(channels)\n",
    "        wf.setsampwidth(sample_width)\n",
    "        wf.setframerate(rate)\n",
    "        yield wf"
   ]
  },
  {
   "cell_type": "code",
   "execution_count": 7,
   "metadata": {},
   "outputs": [],
   "source": [
    "\n",
    "import logging\n",
    "logger = logging.getLogger('Live')\n",
    "#logger.setLevel('DEBUG')  # Switch between \"INFO\" and \"DEBUG\" to toggle debug messages.\n",
    "logger.setLevel('INFO')"
   ]
  },
  {
   "cell_type": "code",
   "execution_count": 8,
   "metadata": {},
   "outputs": [],
   "source": [
    "n = 0\n",
    "async def run(prompt, modality=\"TEXT\", tools=None):\n",
    "  global n\n",
    "  if tools is None:\n",
    "    tools=[]\n",
    "\n",
    "  config = {\n",
    "          \"tools\": tools,\n",
    "          \"response_modalities\": [modality]}\n",
    "\n",
    "  async with client.aio.live.connect(model=model_name, config=config) as session:\n",
    "    display.display(display.Markdown(prompt))\n",
    "    display.display(display.Markdown('-------------------------------'))\n",
    "    await session.send(input=prompt, end_of_turn=True)\n",
    "\n",
    "    audio = False\n",
    "    filename = f'audio_{n}.wav'\n",
    "    with wave_file(filename) as wf:\n",
    "      async for response in session.receive():\n",
    "        logger.debug(str(response))\n",
    "        if text:=response.text:\n",
    "          display.display(display.Markdown(text))\n",
    "          continue\n",
    "\n",
    "        if data:=response.data:\n",
    "          print('.', end='')\n",
    "          wf.writeframes(data)\n",
    "          audio = True\n",
    "          continue\n",
    "\n",
    "        server_content = response.server_content\n",
    "        if server_content is not None:\n",
    "          handle_server_content(wf, server_content)\n",
    "          continue\n",
    "\n",
    "        tool_call = response.tool_call\n",
    "        if tool_call is not None:\n",
    "          await handle_tool_call(session, tool_call)\n",
    "\n",
    "\n",
    "  if audio:\n",
    "    display.display(display.Audio(filename, autoplay=True))\n",
    "    n = n+1"
   ]
  },
  {
   "cell_type": "code",
   "execution_count": 9,
   "metadata": {},
   "outputs": [],
   "source": [
    "def handle_server_content(wf, server_content):\n",
    "  model_turn = server_content.model_turn\n",
    "  if model_turn:\n",
    "    for part in model_turn.parts:\n",
    "      executable_code = part.executable_code\n",
    "      if executable_code is not None:\n",
    "        display.display(display.Markdown('-------------------------------'))\n",
    "        display.display(display.Markdown(f'``` python\\n{executable_code.code}\\n```'))\n",
    "        display.display(display.Markdown('-------------------------------'))\n",
    "\n",
    "      code_execution_result = part.code_execution_result\n",
    "      if code_execution_result is not None:\n",
    "        display.display(display.Markdown('-------------------------------'))\n",
    "        display.display(display.Markdown(f'```\\n{code_execution_result.output}\\n```'))\n",
    "        display.display(display.Markdown('-------------------------------'))\n",
    "\n",
    "  grounding_metadata = getattr(server_content, 'grounding_metadata', None)\n",
    "  if grounding_metadata is not None:\n",
    "    display.display(\n",
    "        display.HTML(grounding_metadata.search_entry_point.rendered_content))\n",
    "\n",
    "  return"
   ]
  },
  {
   "cell_type": "code",
   "execution_count": 10,
   "metadata": {},
   "outputs": [],
   "source": [
    "async def handle_tool_call(session, tool_call):\n",
    "  for fc in tool_call.function_calls:\n",
    "    tool_response = types.LiveClientToolResponse(\n",
    "        function_responses=[types.FunctionResponse(\n",
    "            name=fc.name,\n",
    "            id=fc.id,\n",
    "            response={'result':'ok'},\n",
    "        )]\n",
    "    )\n",
    "\n",
    "    print('\\n>>> ', tool_response)\n",
    "    await session.send(input=tool_response)"
   ]
  },
  {
   "cell_type": "code",
   "execution_count": 12,
   "metadata": {},
   "outputs": [
    {
     "data": {
      "text/markdown": [
       "capital of paris?"
      ],
      "text/plain": [
       "<IPython.core.display.Markdown object>"
      ]
     },
     "metadata": {},
     "output_type": "display_data"
    },
    {
     "data": {
      "text/markdown": [
       "-------------------------------"
      ],
      "text/plain": [
       "<IPython.core.display.Markdown object>"
      ]
     },
     "metadata": {},
     "output_type": "display_data"
    },
    {
     "data": {
      "text/markdown": [
       "The"
      ],
      "text/plain": [
       "<IPython.core.display.Markdown object>"
      ]
     },
     "metadata": {},
     "output_type": "display_data"
    },
    {
     "data": {
      "text/markdown": [
       " capital of France is **Paris**.\n"
      ],
      "text/plain": [
       "<IPython.core.display.Markdown object>"
      ]
     },
     "metadata": {},
     "output_type": "display_data"
    }
   ],
   "source": [
    "await run(prompt=\"capital of paris?\", tools=None, modality = \"TEXT\")"
   ]
  }
 ],
 "metadata": {
  "kernelspec": {
   "display_name": "Python 3",
   "language": "python",
   "name": "python3"
  },
  "language_info": {
   "codemirror_mode": {
    "name": "ipython",
    "version": 3
   },
   "file_extension": ".py",
   "mimetype": "text/x-python",
   "name": "python",
   "nbconvert_exporter": "python",
   "pygments_lexer": "ipython3",
   "version": "3.12.5"
  }
 },
 "nbformat": 4,
 "nbformat_minor": 2
}
