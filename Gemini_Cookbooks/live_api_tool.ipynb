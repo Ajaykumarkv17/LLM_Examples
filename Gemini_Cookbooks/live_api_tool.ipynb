{
 "cells": [
  {
   "cell_type": "code",
   "execution_count": 2,
   "metadata": {},
   "outputs": [],
   "source": [
    "import os\n",
    "from dotenv import load_dotenv\n",
    "load_dotenv()\n",
    "os.environ['GOOGLE_API_KEY']=os.getenv('GOOGLE_API_KEY')"
   ]
  },
  {
   "cell_type": "code",
   "execution_count": 3,
   "metadata": {},
   "outputs": [],
   "source": [
    "from google import genai\n",
    "\n",
    "client = genai.Client(http_options= {\n",
    "      'api_version': 'v1alpha'\n",
    "})"
   ]
  },
  {
   "cell_type": "code",
   "execution_count": 3,
   "metadata": {},
   "outputs": [],
   "source": [
    "model_name = \"gemini-2.0-flash-exp\""
   ]
  },
  {
   "cell_type": "code",
   "execution_count": 4,
   "metadata": {},
   "outputs": [],
   "source": [
    "import asyncio\n",
    "import contextlib\n",
    "import json\n",
    "import wave\n",
    "\n",
    "from IPython import display\n",
    "\n",
    "from google import genai\n",
    "from google.genai import types"
   ]
  },
  {
   "cell_type": "code",
   "execution_count": 5,
   "metadata": {},
   "outputs": [],
   "source": [
    "@contextlib.contextmanager\n",
    "def wave_file(filename, channels=1, rate=24000, sample_width=2):\n",
    "    with wave.open(filename, \"wb\") as wf:\n",
    "        wf.setnchannels(channels)\n",
    "        wf.setsampwidth(sample_width)\n",
    "        wf.setframerate(rate)\n",
    "        yield wf"
   ]
  },
  {
   "cell_type": "code",
   "execution_count": null,
   "metadata": {},
   "outputs": [],
   "source": [
    "\n",
    "import logging\n",
    "logger = logging.getLogger('Live')\n",
    "#logger.setLevel('DEBUG')  # Switch between \"INFO\" and \"DEBUG\" to toggle debug messages.\n",
    "logger.setLevel('INFO')"
   ]
  },
  {
   "cell_type": "code",
   "execution_count": 1,
   "metadata": {},
   "outputs": [],
   "source": [
    "n = 0\n",
    "async def run(prompt, modality=\"TEXT\", tools=None):\n",
    "  global n\n",
    "  if tools is None:\n",
    "    tools=[]\n",
    "\n",
    "  config = {\n",
    "          \"tools\": tools,\n",
    "          \"response_modalities\": [modality]}\n",
    "\n",
    "  async with client.aio.live.connect(model=model_name, config=config) as session:\n",
    "    display.display(display.Markdown(prompt))\n",
    "    display.display(display.Markdown('-------------------------------'))\n",
    "    await session.send(input=prompt, end_of_turn=True)\n",
    "\n",
    "    audio = False\n",
    "    filename = f'audio_{n}.wav'\n",
    "    with wave_file(filename) as wf:\n",
    "      async for response in session.receive():\n",
    "        logger.debug(str(response))\n",
    "        if text:=response.text:\n",
    "          display.display(display.Markdown(text))\n",
    "          continue\n",
    "\n",
    "        if data:=response.data:\n",
    "          print('.', end='')\n",
    "          wf.writeframes(data)\n",
    "          audio = True\n",
    "          continue\n",
    "\n",
    "        server_content = response.server_content\n",
    "        if server_content is not None:\n",
    "          handle_server_content(wf, server_content)\n",
    "          continue\n",
    "\n",
    "        tool_call = response.tool_call\n",
    "        if tool_call is not None:\n",
    "          await handle_tool_call(session, tool_call)\n",
    "\n",
    "\n",
    "  if audio:\n",
    "    display.display(display.Audio(filename, autoplay=True))\n",
    "    n = n+1"
   ]
  }
 ],
 "metadata": {
  "kernelspec": {
   "display_name": "Python 3",
   "language": "python",
   "name": "python3"
  },
  "language_info": {
   "codemirror_mode": {
    "name": "ipython",
    "version": 3
   },
   "file_extension": ".py",
   "mimetype": "text/x-python",
   "name": "python",
   "nbconvert_exporter": "python",
   "pygments_lexer": "ipython3",
   "version": "3.12.5"
  }
 },
 "nbformat": 4,
 "nbformat_minor": 2
}
