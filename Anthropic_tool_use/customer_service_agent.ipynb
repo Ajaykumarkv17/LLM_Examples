{
 "cells": [
  {
   "cell_type": "markdown",
   "metadata": {},
   "source": [
    "# Creating a Customer Service Agent with Client-Side Tools\n",
    "\n",
    "In this recipe, we'll demonstrate how to create a customer service chatbot using Claude 3 plus client-side tools. The chatbot will be able to look up customer information, retrieve order details, and cancel orders on behalf of the customer. We'll define the necessary tools and simulate synthetic responses to showcase the chatbot's capabilities."
   ]
  },
  {
   "cell_type": "markdown",
   "metadata": {},
   "source": [
    "## Step 1: Set up the environment\n",
    "\n",
    "First, let's install the required libraries and set up the Anthropic API client."
   ]
  },
  {
   "cell_type": "code",
   "execution_count": null,
   "metadata": {},
   "outputs": [],
   "source": [
    "%pip install anthropic"
   ]
  },
  {
   "cell_type": "code",
   "execution_count": 1,
   "metadata": {},
   "outputs": [],
   "source": [
    "import anthropic\n",
    "\n",
    "client = anthropic.Client()\n",
    "MODEL_NAME = \"claude-3-opus-20240229\""
   ]
  },
  {
   "cell_type": "markdown",
   "metadata": {},
   "source": [
    "## Step 2: Define the client-side tools\n",
    "\n",
    "Next, we'll define the client-side tools that our chatbot will use to assist customers. We'll create three tools: get_customer_info, get_order_details, and cancel_order."
   ]
  },
  {
   "cell_type": "code",
   "execution_count": 2,
   "metadata": {},
   "outputs": [],
   "source": [
    "tools = [\n",
    "    {\n",
    "        \"name\": \"get_customer_info\",\n",
    "        \"description\": \"Retrieves customer information based on their customer ID. Returns the customer's name, email, and phone number.\",\n",
    "        \"input_schema\": {\n",
    "            \"type\": \"object\",\n",
    "            \"properties\": {\n",
    "                \"customer_id\": {\n",
    "                    \"type\": \"string\",\n",
    "                    \"description\": \"The unique identifier for the customer.\"\n",
    "                }\n",
    "            },\n",
    "            \"required\": [\"customer_id\"]\n",
    "        }\n",
    "    },\n",
    "    {\n",
    "        \"name\": \"get_order_details\",\n",
    "        \"description\": \"Retrieves the details of a specific order based on the order ID. Returns the order ID, product name, quantity, price, and order status.\",\n",
    "        \"input_schema\": {\n",
    "            \"type\": \"object\",\n",
    "            \"properties\": {\n",
    "                \"order_id\": {\n",
    "                    \"type\": \"string\",\n",
    "                    \"description\": \"The unique identifier for the order.\"\n",
    "                }\n",
    "            },\n",
    "            \"required\": [\"order_id\"]\n",
    "        }\n",
    "    },\n",
    "    {\n",
    "        \"name\": \"cancel_order\",\n",
    "        \"description\": \"Cancels an order based on the provided order ID. Returns a confirmation message if the cancellation is successful.\",\n",
    "        \"input_schema\": {\n",
    "            \"type\": \"object\",\n",
    "            \"properties\": {\n",
    "                \"order_id\": {\n",
    "                    \"type\": \"string\",\n",
    "                    \"description\": \"The unique identifier for the order to be cancelled.\"\n",
    "                }\n",
    "            },\n",
    "            \"required\": [\"order_id\"]\n",
    "        }\n",
    "    }\n",
    "]"
   ]
  },
  {
   "cell_type": "markdown",
   "metadata": {},
   "source": [
    "## Step 3: Simulate synthetic tool responses\n",
    "\n",
    "Since we don't have real customer data or order information, we'll simulate synthetic responses for our tools. In a real-world scenario, these functions would interact with your actual customer database and order management system."
   ]
  },
  {
   "cell_type": "code",
   "execution_count": 3,
   "metadata": {},
   "outputs": [],
   "source": [
    "def get_customer_info(customer_id):\n",
    "    # Simulated customer data\n",
    "    customers = {\n",
    "        \"C1\": {\"name\": \"John Doe\", \"email\": \"john@example.com\", \"phone\": \"123-456-7890\"},\n",
    "        \"C2\": {\"name\": \"Jane Smith\", \"email\": \"jane@example.com\", \"phone\": \"987-654-3210\"}\n",
    "    }\n",
    "    return customers.get(customer_id, \"Customer not found\")\n",
    "\n",
    "def get_order_details(order_id):\n",
    "    # Simulated order data\n",
    "    orders = {\n",
    "        \"O1\": {\"id\": \"O1\", \"product\": \"Widget A\", \"quantity\": 2, \"price\": 19.99, \"status\": \"Shipped\"},\n",
    "        \"O2\": {\"id\": \"O2\", \"product\": \"Gadget B\", \"quantity\": 1, \"price\": 49.99, \"status\": \"Processing\"}\n",
    "    }\n",
    "    return orders.get(order_id, \"Order not found\")\n",
    "\n",
    "def cancel_order(order_id):\n",
    "    # Simulated order cancellation\n",
    "    if order_id in [\"O1\", \"O2\"]:\n",
    "        return True\n",
    "    else:\n",
    "        return False"
   ]
  },
  {
   "cell_type": "markdown",
   "metadata": {},
   "source": [
    "## Step 4: Process tool calls and return results\n",
    "\n",
    "We'll create a function to process the tool calls made by Claude and return the appropriate results."
   ]
  },
  {
   "cell_type": "code",
   "execution_count": 4,
   "metadata": {},
   "outputs": [],
   "source": [
    "def process_tool_call(tool_name, tool_input):\n",
    "    if tool_name == \"get_customer_info\":\n",
    "        return get_customer_info(tool_input[\"customer_id\"])\n",
    "    elif tool_name == \"get_order_details\":\n",
    "        return get_order_details(tool_input[\"order_id\"])\n",
    "    elif tool_name == \"cancel_order\":\n",
    "        return cancel_order(tool_input[\"order_id\"])"
   ]
  },
  {
   "cell_type": "markdown",
   "metadata": {},
   "source": [
    "## Step 5: Interact with the chatbot\n",
    "\n",
    "Now, let's create a function to interact with the chatbot. We'll send a user message, process any tool calls made by Claude, and return the final response to the user."
   ]
  },
  {
   "cell_type": "code",
   "execution_count": 5,
   "metadata": {},
   "outputs": [],
   "source": [
    "import json\n",
    "\n",
    "def chatbot_interaction(user_message):\n",
    "    print(f\"\\n{'='*50}\\nUser Message: {user_message}\\n{'='*50}\")\n",
    "\n",
    "    messages = [\n",
    "        {\"role\": \"user\", \"content\": user_message}\n",
    "    ]\n",
    "\n",
    "    response = client.messages.create(\n",
    "        model=MODEL_NAME,\n",
    "        max_tokens=4096,\n",
    "        tools=tools,\n",
    "        messages=messages\n",
    "    )\n",
    "\n",
    "    print(f\"\\nInitial Response:\")\n",
    "    print(f\"Stop Reason: {response.stop_reason}\")\n",
    "    print(f\"Content: {response.content}\")\n",
    "\n",
    "    while response.stop_reason == \"tool_use\":\n",
    "        tool_use = next(block for block in response.content if block.type == \"tool_use\")\n",
    "        tool_name = tool_use.name\n",
    "        tool_input = tool_use.input\n",
    "\n",
    "        print(f\"\\nTool Used: {tool_name}\")\n",
    "        print(f\"Tool Input:\")\n",
    "        print(json.dumps(tool_input, indent=2))\n",
    "\n",
    "        tool_result = process_tool_call(tool_name, tool_input)\n",
    "\n",
    "        print(f\"\\nTool Result:\")\n",
    "        print(json.dumps(tool_result, indent=2))\n",
    "\n",
    "        messages = [\n",
    "            {\"role\": \"user\", \"content\": user_message},\n",
    "            {\"role\": \"assistant\", \"content\": response.content},\n",
    "            {\n",
    "                \"role\": \"user\",\n",
    "                \"content\": [\n",
    "                    {\n",
    "                        \"type\": \"tool_result\",\n",
    "                        \"tool_use_id\": tool_use.id,\n",
    "                        \"content\": str(tool_result),\n",
    "                    }\n",
    "                ],\n",
    "            },\n",
    "        ]\n",
    "\n",
    "        response = client.messages.create(\n",
    "            model=MODEL_NAME,\n",
    "            max_tokens=4096,\n",
    "            tools=tools,\n",
    "            messages=messages\n",
    "        )\n",
    "\n",
    "        print(f\"\\nResponse:\")\n",
    "        print(f\"Stop Reason: {response.stop_reason}\")\n",
    "        print(f\"Content: {response.content}\")\n",
    "\n",
    "    final_response = next(\n",
    "        (block.text for block in response.content if hasattr(block, \"text\")),\n",
    "        None,\n",
    "    )\n",
    "\n",
    "    print(f\"\\nFinal Response: {final_response}\")\n",
    "\n",
    "    return final_response"
   ]
  },
  {
   "cell_type": "markdown",
   "metadata": {},
   "source": [
    "## Step 6: Test the chatbot\n",
    "Let's test our customer service chatbot with a few sample queries."
   ]
  },
  {
   "cell_type": "code",
   "execution_count": 6,
   "metadata": {},
   "outputs": [
    {
     "name": "stdout",
     "output_type": "stream",
     "text": [
      "\n",
      "==================================================\n",
      "User Message: Can you tell me the email address for customer C1?\n",
      "==================================================\n",
      "\n",
      "Initial Response:\n",
      "Stop Reason: tool_use\n",
      "Content: [TextBlock(text='<thinking>\\nTo find the email address for a specific customer, the relevant tool is:\\n\\nget_customer_info\\n- This takes the required parameter customer_id and returns the customer\\'s name, email, and phone number.\\n\\nThe user provided the customer ID \"C1\" directly in the request, so this value can be used for the customer_id parameter. Since all required parameters are available, I can proceed with calling this tool to retrieve the email address for customer C1.\\n</thinking>', type='text'), ToolUseBlock(id='toolu_01QC2RZgwNh2UDD9yYdx7Qid', input={'customer_id': 'C1'}, name='get_customer_info', type='tool_use')]\n",
      "\n",
      "Tool Used: get_customer_info\n",
      "Tool Input:\n",
      "{\n",
      "  \"customer_id\": \"C1\"\n",
      "}\n",
      "\n",
      "Tool Result:\n",
      "{\n",
      "  \"name\": \"John Doe\",\n",
      "  \"email\": \"john@example.com\",\n",
      "  \"phone\": \"123-456-7890\"\n",
      "}\n",
      "\n",
      "Response:\n",
      "Stop Reason: end_turn\n",
      "Content: [TextBlock(text='Based on the result from the get_customer_info tool, the email address for customer C1 is john@example.com.', type='text')]\n",
      "\n",
      "Final Response: Based on the result from the get_customer_info tool, the email address for customer C1 is john@example.com.\n",
      "\n",
      "==================================================\n",
      "User Message: What is the status of order O2?\n",
      "==================================================\n",
      "\n",
      "Initial Response:\n",
      "Stop Reason: tool_use\n",
      "Content: [TextBlock(text='<thinking>\\nTo check the status of an order, the get_order_details tool seems most relevant. It requires an order_id parameter.\\n\\nThe user provided an order ID in their request - \"O2\". So I have the necessary information to call the get_order_details tool to retrieve the status and other details for order O2.\\n</thinking>', type='text'), ToolUseBlock(id='toolu_01TdLAn5Ujs7b36Wt5XSusCf', input={'order_id': 'O2'}, name='get_order_details', type='tool_use')]\n",
      "\n",
      "Tool Used: get_order_details\n",
      "Tool Input:\n",
      "{\n",
      "  \"order_id\": \"O2\"\n",
      "}\n",
      "\n",
      "Tool Result:\n",
      "{\n",
      "  \"id\": \"O2\",\n",
      "  \"product\": \"Gadget B\",\n",
      "  \"quantity\": 1,\n",
      "  \"price\": 49.99,\n",
      "  \"status\": \"Processing\"\n",
      "}\n",
      "\n",
      "Response:\n",
      "Stop Reason: end_turn\n",
      "Content: [TextBlock(text='Based on the order details retrieved, the status of order O2 is currently \"Processing\".', type='text')]\n",
      "\n",
      "Final Response: Based on the order details retrieved, the status of order O2 is currently \"Processing\".\n",
      "\n",
      "==================================================\n",
      "User Message: Please cancel order O1 for me.\n",
      "==================================================\n",
      "\n",
      "Initial Response:\n",
      "Stop Reason: tool_use\n",
      "Content: [TextBlock(text='<thinking>\\nTo cancel an order, the cancel_order tool is relevant. It requires the order_id parameter. \\n\\nThe user provided an order ID of \"O1\" in their request, so I have the necessary information to call the cancel_order tool.\\n\\nNo other tools are needed before calling cancel_order, since I have the required order_id parameter. I will proceed with calling the cancel_order tool.\\n</thinking>', type='text'), ToolUseBlock(id='toolu_01KcnMfnNU6N6SDJ3JsqRVGB', input={'order_id': 'O1'}, name='cancel_order', type='tool_use')]\n",
      "\n",
      "Tool Used: cancel_order\n",
      "Tool Input:\n",
      "{\n",
      "  \"order_id\": \"O1\"\n",
      "}\n",
      "\n",
      "Tool Result:\n",
      "true\n",
      "\n",
      "Response:\n",
      "Stop Reason: end_turn\n",
      "Content: [TextBlock(text='Your order O1 has been successfully cancelled. Please let me know if there is anything else I can assist you with.', type='text')]\n",
      "\n",
      "Final Response: Your order O1 has been successfully cancelled. Please let me know if there is anything else I can assist you with.\n"
     ]
    },
    {
     "data": {
      "text/plain": [
       "'Your order O1 has been successfully cancelled. Please let me know if there is anything else I can assist you with.'"
      ]
     },
     "execution_count": 6,
     "metadata": {},
     "output_type": "execute_result"
    }
   ],
   "source": [
    "chatbot_interaction(\"Can you tell me the email address for customer C1?\")\n",
    "chatbot_interaction(\"What is the status of order O2?\")\n",
    "chatbot_interaction(\"Please cancel order O1 for me.\")"
   ]
  },
  {
   "cell_type": "markdown",
   "metadata": {},
   "source": [
    "And that's it! We've created a customer service chatbot using Claude 3 models and client-side tools. The chatbot can look up customer information, retrieve order details, and cancel orders based on the user's requests. By defining clear tool descriptions and schemas, we enable Claude to effectively understand and utilize the available tools to assist customers.\n",
    "\n",
    "Feel free to expand on this example by integrating with your actual customer database and order management system, and by adding more tools to handle a wider range of customer service tasks."
   ]
  }
 ],
 "metadata": {
  "kernelspec": {
   "display_name": "Python 3",
   "language": "python",
   "name": "python3"
  },
  "language_info": {
   "codemirror_mode": {
    "name": "ipython",
    "version": 3
   },
   "file_extension": ".py",
   "mimetype": "text/x-python",
   "name": "python",
   "nbconvert_exporter": "python",
   "pygments_lexer": "ipython3",
   "version": "3.12.1"
  }
 },
 "nbformat": 4,
 "nbformat_minor": 2
}
