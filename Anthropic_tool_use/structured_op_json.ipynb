{
 "cells": [
  {
   "cell_type": "code",
   "execution_count": 1,
   "metadata": {},
   "outputs": [
    {
     "name": "stdout",
     "output_type": "stream",
     "text": [
      "Collecting anthropic\n",
      "  Downloading anthropic-0.36.0-py3-none-any.whl.metadata (21 kB)\n",
      "Requirement already satisfied: requests in /home/codespace/.local/lib/python3.12/site-packages (2.32.3)\n",
      "Requirement already satisfied: beautifulsoup4 in /home/codespace/.local/lib/python3.12/site-packages (4.12.3)\n",
      "Requirement already satisfied: anyio<5,>=3.5.0 in /home/codespace/.local/lib/python3.12/site-packages (from anthropic) (4.6.0)\n",
      "Requirement already satisfied: distro<2,>=1.7.0 in /usr/local/python/3.12.1/lib/python3.12/site-packages (from anthropic) (1.9.0)\n",
      "Requirement already satisfied: httpx<1,>=0.23.0 in /home/codespace/.local/lib/python3.12/site-packages (from anthropic) (0.27.2)\n",
      "Requirement already satisfied: jiter<1,>=0.4.0 in /usr/local/python/3.12.1/lib/python3.12/site-packages (from anthropic) (0.5.0)\n",
      "Requirement already satisfied: pydantic<3,>=1.9.0 in /usr/local/python/3.12.1/lib/python3.12/site-packages (from anthropic) (2.9.2)\n",
      "Requirement already satisfied: sniffio in /home/codespace/.local/lib/python3.12/site-packages (from anthropic) (1.3.1)\n",
      "Requirement already satisfied: tokenizers>=0.13.0 in /usr/local/python/3.12.1/lib/python3.12/site-packages (from anthropic) (0.20.1)\n",
      "Requirement already satisfied: typing-extensions<5,>=4.7 in /usr/local/python/3.12.1/lib/python3.12/site-packages (from anthropic) (4.12.2)\n",
      "Requirement already satisfied: charset-normalizer<4,>=2 in /home/codespace/.local/lib/python3.12/site-packages (from requests) (3.3.2)\n",
      "Requirement already satisfied: idna<4,>=2.5 in /home/codespace/.local/lib/python3.12/site-packages (from requests) (3.10)\n",
      "Requirement already satisfied: urllib3<3,>=1.21.1 in /home/codespace/.local/lib/python3.12/site-packages (from requests) (2.2.3)\n",
      "Requirement already satisfied: certifi>=2017.4.17 in /home/codespace/.local/lib/python3.12/site-packages (from requests) (2024.8.30)\n",
      "Requirement already satisfied: soupsieve>1.2 in /home/codespace/.local/lib/python3.12/site-packages (from beautifulsoup4) (2.6)\n",
      "Requirement already satisfied: httpcore==1.* in /home/codespace/.local/lib/python3.12/site-packages (from httpx<1,>=0.23.0->anthropic) (1.0.5)\n",
      "Requirement already satisfied: h11<0.15,>=0.13 in /home/codespace/.local/lib/python3.12/site-packages (from httpcore==1.*->httpx<1,>=0.23.0->anthropic) (0.14.0)\n",
      "Requirement already satisfied: annotated-types>=0.6.0 in /usr/local/python/3.12.1/lib/python3.12/site-packages (from pydantic<3,>=1.9.0->anthropic) (0.7.0)\n",
      "Requirement already satisfied: pydantic-core==2.23.4 in /usr/local/python/3.12.1/lib/python3.12/site-packages (from pydantic<3,>=1.9.0->anthropic) (2.23.4)\n",
      "Requirement already satisfied: huggingface-hub<1.0,>=0.16.4 in /usr/local/python/3.12.1/lib/python3.12/site-packages (from tokenizers>=0.13.0->anthropic) (0.25.1)\n",
      "Requirement already satisfied: filelock in /home/codespace/.local/lib/python3.12/site-packages (from huggingface-hub<1.0,>=0.16.4->tokenizers>=0.13.0->anthropic) (3.13.1)\n",
      "Requirement already satisfied: fsspec>=2023.5.0 in /home/codespace/.local/lib/python3.12/site-packages (from huggingface-hub<1.0,>=0.16.4->tokenizers>=0.13.0->anthropic) (2024.2.0)\n",
      "Requirement already satisfied: packaging>=20.9 in /home/codespace/.local/lib/python3.12/site-packages (from huggingface-hub<1.0,>=0.16.4->tokenizers>=0.13.0->anthropic) (24.1)\n",
      "Requirement already satisfied: pyyaml>=5.1 in /home/codespace/.local/lib/python3.12/site-packages (from huggingface-hub<1.0,>=0.16.4->tokenizers>=0.13.0->anthropic) (6.0.2)\n",
      "Requirement already satisfied: tqdm>=4.42.1 in /usr/local/python/3.12.1/lib/python3.12/site-packages (from huggingface-hub<1.0,>=0.16.4->tokenizers>=0.13.0->anthropic) (4.66.5)\n",
      "Downloading anthropic-0.36.0-py3-none-any.whl (939 kB)\n",
      "\u001b[2K   \u001b[90m━━━━━━━━━━━━━━━━━━━━━━━━━━━━━━━━━━━━━━━━\u001b[0m \u001b[32m939.7/939.7 kB\u001b[0m \u001b[31m4.5 MB/s\u001b[0m eta \u001b[36m0:00:00\u001b[0ma \u001b[36m0:00:01\u001b[0m\n",
      "\u001b[?25hInstalling collected packages: anthropic\n",
      "Successfully installed anthropic-0.36.0\n",
      "Note: you may need to restart the kernel to use updated packages.\n"
     ]
    }
   ],
   "source": [
    "%pip install anthropic requests beautifulsoup4"
   ]
  },
  {
   "cell_type": "code",
   "execution_count": 4,
   "metadata": {},
   "outputs": [],
   "source": [
    "from anthropic import Anthropic\n",
    "import requests\n",
    "from bs4 import BeautifulSoup\n",
    "import json\n",
    "import os\n",
    "from dotenv import load_dotenv\n",
    "\n",
    "load_dotenv()\n",
    "\n",
    "api_key=os.getenv(\"ANTHROPIC_API_KEY\")\n",
    "client = Anthropic(api_key=api_key)\n",
    "MODEL_NAME = \"claude-3-haiku-20240307\"\n",
    "\n"
   ]
  },
  {
   "cell_type": "code",
   "execution_count": 27,
   "metadata": {},
   "outputs": [
    {
     "name": "stdout",
     "output_type": "stream",
     "text": [
      "JSON Summary:\n",
      "{\n",
      "  \"author\": \"Anthropic\",\n",
      "  \"topics\": [\n",
      "    \"ai\",\n",
      "    \"regulation\",\n",
      "    \"policy\",\n",
      "    \"testing\",\n",
      "    \"safety\"\n",
      "  ],\n",
      "  \"summary\": \"The article argues that the AI sector needs effective third-party testing for frontier AI systems to avoid societal harm, whether deliberate or accidental. It discusses what third-party testing looks like, why it's needed, and some of the research Anthropic has done to arrive at this policy position. The article states that developing a robust, third-party testing regime is one of the best ways to manage the challenges of AI today and for the future. It outlines key ingredients of such a regime, including testing for national security risks. The article also discusses Anthropic's Responsible Scaling Policy, while arguing that self-governance by individual companies is insufficient and that industry-wide third-party testing is needed. The article concludes by outlining Anthropic's plans to support governments in developing effective third-party testing regimes.\",\n",
      "  \"coherence\": 90,\n",
      "  \"persuasion\": 0.8\n",
      "}\n"
     ]
    }
   ],
   "source": [
    "tools = [\n",
    "    {\n",
    "        \"name\": \"print_summary\",\n",
    "        \"description\": \"Prints a summary of the article.\",\n",
    "        \"input_schema\": {\n",
    "            \"type\": \"object\",\n",
    "            \"properties\": {\n",
    "                \"author\": {\"type\": \"string\", \"description\": \"Name of the article author\"},\n",
    "                \"topics\": {\n",
    "                    \"type\": \"array\",\n",
    "                    \"items\": {\"type\": \"string\"},\n",
    "                    \"description\": 'Array of topics, e.g. [\"tech\", \"politics\"]. Should be as specific as possible, and can overlap.'\n",
    "                },\n",
    "                \"summary\": {\"type\": \"string\", \"description\": \"Summary of the article. One or two paragraphs max.\"},\n",
    "                \"coherence\": {\"type\": \"integer\", \"description\": \"Coherence of the article's key points, 0-100 (inclusive)\"},\n",
    "                \"persuasion\": {\"type\": \"number\", \"description\": \"Article's persuasion score, 0.0-1.0 (inclusive)\"}\n",
    "            },\n",
    "            \"required\": ['author', 'topics', 'summary', 'coherence', 'persuasion']\n",
    "        }\n",
    "    }\n",
    "]\n",
    "\n",
    "url = \"https://www.anthropic.com/news/third-party-testing\"\n",
    "response = requests.get(url)\n",
    "soup = BeautifulSoup(response.text, \"html.parser\")\n",
    "article = \" \".join([p.text for p in soup.find_all(\"p\")])\n",
    "\n",
    "query = f\"\"\"\n",
    "<article>\n",
    "{article}\n",
    "</article>\n",
    "\n",
    "Use the `print_summary` tool.\n",
    "\"\"\"\n",
    "\n",
    "response = client.messages.create(\n",
    "    model=MODEL_NAME,\n",
    "    max_tokens=4096,\n",
    "    tools=tools,\n",
    "    messages=[{\"role\": \"user\", \"content\": query}]\n",
    "    \n",
    ")\n",
    "json_summary = None\n",
    "for content in response.content:\n",
    "    if content.type == \"tool_use\" and content.name == \"print_summary\":\n",
    "        json_summary = content.input\n",
    "        break\n",
    "\n",
    "if json_summary:\n",
    "    print(\"JSON Summary:\")\n",
    "    print(json.dumps(json_summary, indent=2))\n",
    "else:\n",
    "    print(\"No JSON summary found in the response.\")"
   ]
  },
  {
   "cell_type": "code",
   "execution_count": 35,
   "metadata": {},
   "outputs": [
    {
     "data": {
      "text/plain": [
       "{'author': 'Anthropic',\n",
       " 'topics': ['ai', 'regulation', 'policy', 'testing', 'safety'],\n",
       " 'summary': \"The article argues that the AI sector needs effective third-party testing for frontier AI systems to avoid societal harm, whether deliberate or accidental. It discusses what third-party testing looks like, why it's needed, and some of the research Anthropic has done to arrive at this policy position. The article states that developing a robust, third-party testing regime is one of the best ways to manage the challenges of AI today and for the future. It outlines key ingredients of such a regime, including testing for national security risks. The article also discusses Anthropic's Responsible Scaling Policy, while arguing that self-governance by individual companies is insufficient and that industry-wide third-party testing is needed. The article concludes by outlining Anthropic's plans to support governments in developing effective third-party testing regimes.\",\n",
       " 'coherence': 90,\n",
       " 'persuasion': 0.8}"
      ]
     },
     "execution_count": 35,
     "metadata": {},
     "output_type": "execute_result"
    }
   ],
   "source": [
    "response.content[1].input"
   ]
  },
  {
   "cell_type": "code",
   "execution_count": 36,
   "metadata": {},
   "outputs": [
    {
     "name": "stdout",
     "output_type": "stream",
     "text": [
      "Characteristics (JSON):\n",
      "{\n",
      "  \"height\": \"tall\",\n",
      "  \"facial_hair\": \"beard\",\n",
      "  \"scars\": \"left cheek\",\n",
      "  \"voice\": \"deep\",\n",
      "  \"attire\": \"black leather jacket\"\n",
      "}\n"
     ]
    }
   ],
   "source": [
    "tools = [\n",
    "    {\n",
    "        \"name\": \"print_all_characteristics\",\n",
    "        \"description\": \"Prints all characteristics which are provided.\",\n",
    "        \"input_schema\": {\n",
    "            \"type\": \"object\",\n",
    "            \"additionalProperties\": True\n",
    "        }\n",
    "    }\n",
    "]\n",
    "\n",
    "query = f\"\"\"Given a description of a character, your task is to extract all the characteristics of the character and print them using the print_all_characteristics tool.\n",
    "\n",
    "The print_all_characteristics tool takes an arbitrary number of inputs where the key is the characteristic name and the value is the characteristic value (age: 28 or eye_color: green).\n",
    "\n",
    "<description>\n",
    "The man is tall, with a beard and a scar on his left cheek. He has a deep voice and wears a black leather jacket.\n",
    "</description>\n",
    "\n",
    "Now use the print_all_characteristics tool.\"\"\"\n",
    "\n",
    "response = client.messages.create(\n",
    "    model=MODEL_NAME,\n",
    "    max_tokens=4096,\n",
    "    tools=tools,\n",
    "    tool_choice={\"type\": \"tool\", \"name\": \"print_all_characteristics\"},\n",
    "    messages=[{\"role\": \"user\", \"content\": query}]\n",
    ")\n",
    "\n",
    "tool_output = None\n",
    "json_classification=None\n",
    "for content in response.content:\n",
    "    if content.type == \"tool_use\" and content.name == \"print_all_characteristics\":\n",
    "        tool_output = content.input\n",
    "        break\n",
    "\n",
    "if tool_output:\n",
    "    print(\"Characteristics (JSON):\")\n",
    "    print(json.dumps(tool_output, indent=2))\n",
    "else:\n",
    "    print(\"Something went wrong.\")"
   ]
  }
 ],
 "metadata": {
  "kernelspec": {
   "display_name": "Python 3",
   "language": "python",
   "name": "python3"
  },
  "language_info": {
   "codemirror_mode": {
    "name": "ipython",
    "version": 3
   },
   "file_extension": ".py",
   "mimetype": "text/x-python",
   "name": "python",
   "nbconvert_exporter": "python",
   "pygments_lexer": "ipython3",
   "version": "3.12.1"
  }
 },
 "nbformat": 4,
 "nbformat_minor": 2
}
