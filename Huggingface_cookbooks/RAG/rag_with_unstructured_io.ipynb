{
 "cells": [
  {
   "cell_type": "markdown",
   "metadata": {},
   "source": [
    "### This is an Example for Building a Retrieval-Augmented Generation (RAG) App with Unstructured IO\n",
    "### A tool for extracting information from unstructured data and serves as the foundation for a wide range of applications, including information retrieval, data mining, and natural language processing.\n",
    "\n"
   ]
  },
  {
   "cell_type": "code",
   "execution_count": 4,
   "metadata": {},
   "outputs": [
    {
     "name": "stdout",
     "output_type": "stream",
     "text": [
      "\u001b[31mERROR: pip's dependency resolver does not currently take into account all the packages that are installed. This behaviour is the source of the following dependency conflicts.\n",
      "gradio 5.12.0 requires aiofiles<24.0,>=22.0, but you have aiofiles 24.1.0 which is incompatible.\n",
      "pymilvus 2.5.3 requires grpcio<=1.67.1,>=1.49.1, but you have grpcio 1.69.0 which is incompatible.\u001b[0m\u001b[31m\n",
      "\u001b[0m\n",
      "\u001b[1m[\u001b[0m\u001b[34;49mnotice\u001b[0m\u001b[1;39;49m]\u001b[0m\u001b[39;49m A new release of pip is available: \u001b[0m\u001b[31;49m24.2\u001b[0m\u001b[39;49m -> \u001b[0m\u001b[32;49m24.3.1\u001b[0m\n",
      "\u001b[1m[\u001b[0m\u001b[34;49mnotice\u001b[0m\u001b[1;39;49m]\u001b[0m\u001b[39;49m To update, run: \u001b[0m\u001b[32;49mpython3 -m pip install --upgrade pip\u001b[0m\n"
     ]
    }
   ],
   "source": [
    "!pip install -qU \"unstructured-ingest[pdf]\" unstructured langchain langchain-community transformers accelerate bitsandbytes sentence-transformers "
   ]
  },
  {
   "cell_type": "code",
   "execution_count": 13,
   "metadata": {},
   "outputs": [],
   "source": [
    "import os\n",
    "\n",
    "os.environ[\"UNSTRUCTURED_API_KEY\"] = \"\" # Add your key here\n",
    "os.environ[\"UNSTRUCTURED_API_URL\"] =\"https://api.unstructured.io/general/v0/general\" # You can find the URL in your personalized dashboard"
   ]
  },
  {
   "cell_type": "code",
   "execution_count": null,
   "metadata": {},
   "outputs": [],
   "source": [
    "os.environ[\"UNSTRUCTURED_API_KEY\"]"
   ]
  },
  {
   "cell_type": "code",
   "execution_count": 15,
   "metadata": {},
   "outputs": [],
   "source": [
    "from unstructured_ingest.v2.pipeline.pipeline import Pipeline\n",
    "from unstructured_ingest.v2.interfaces import ProcessorConfig\n",
    "from unstructured_ingest.v2.processes.connectors.local import (\n",
    "    LocalIndexerConfig,\n",
    "    LocalDownloaderConfig,\n",
    "    LocalConnectionConfig,\n",
    "    LocalUploaderConfig\n",
    ")\n",
    "from unstructured_ingest.v2.processes.partitioner import PartitionerConfig\n",
    "from unstructured_ingest.v2.processes.chunker import ChunkerConfig"
   ]
  },
  {
   "cell_type": "code",
   "execution_count": 16,
   "metadata": {},
   "outputs": [
    {
     "name": "stderr",
     "output_type": "stream",
     "text": [
      "Overriding of current TracerProvider is not allowed\n",
      "2025-01-14 16:07:34,213 MainProcess INFO     created index with configs: {\"input_path\": \"content/data\", \"recursive\": false}, connection configs: {\"access_config\": \"**********\"}\n",
      "2025-01-14 16:07:34,213 MainProcess INFO     Created download with configs: {\"download_dir\": null}, connection configs: {\"access_config\": \"**********\"}\n",
      "2025-01-14 16:07:34,214 MainProcess INFO     created partition with configs: {\"strategy\": \"hi_res\", \"ocr_languages\": null, \"encoding\": null, \"additional_partition_args\": {\"split_pdf_page\": true, \"split_pdf_concurrency_level\": 15}, \"skip_infer_table_types\": null, \"fields_include\": [\"element_id\", \"text\", \"type\", \"metadata\", \"embeddings\"], \"flatten_metadata\": false, \"metadata_exclude\": [], \"element_exclude\": [], \"metadata_include\": [], \"partition_endpoint\": \"https://api.unstructured.io/general/v0/general\", \"partition_by_api\": true, \"api_key\": \"*******\", \"hi_res_model_name\": null}\n",
      "2025-01-14 16:07:34,215 MainProcess INFO     Created upload with configs: {\"output_dir\": \"content/output\"}, connection configs: {\"access_config\": \"**********\"}\n",
      "2025-01-14 16:07:34,216 MainProcess INFO     running local pipeline: index (LocalIndexer) -> download (LocalDownloader) -> partition (hi_res) -> upload (LocalUploader) with configs: {\"reprocess\": false, \"verbose\": false, \"tqdm\": false, \"work_dir\": \"/home/codespace/.cache/unstructured/ingest/pipeline\", \"num_processes\": 2, \"max_connections\": null, \"raise_on_error\": false, \"disable_parallelism\": false, \"preserve_downloads\": false, \"download_only\": false, \"re_download\": false, \"uncompress\": false, \"iter_delete\": false, \"delete_cache\": false, \"otel_endpoint\": null, \"status\": {}}\n",
      "2025-01-14 16:07:34,230 MainProcess INFO     index finished in 0.000102952s\n",
      "2025-01-14 16:07:34,233 MainProcess WARNING  Couldn't detect date created: 'os.stat_result' object has no attribute 'st_birthtime'\n",
      "2025-01-14 16:07:34,236 MainProcess INFO     calling DownloadStep with 1 docs\n",
      "2025-01-14 16:07:34,237 MainProcess INFO     processing content async\n",
      "2025-01-14 16:07:34,239 MainProcess WARNING  async code being run in dedicated thread pool to not conflict with existing event loop: <_UnixSelectorEventLoop running=True closed=False debug=False>\n",
      "2025-01-14 16:07:34,243 MainProcess INFO     download finished in 0.001439948s, attributes: file_id=1788a7856d10\n",
      "2025-01-14 16:07:34,244 MainProcess INFO     download step finished in 0.008229043s\n",
      "2025-01-14 16:07:34,245 MainProcess INFO     calling PartitionStep with 1 docs\n",
      "2025-01-14 16:07:34,246 MainProcess INFO     processing content async\n",
      "2025-01-14 16:07:34,247 MainProcess WARNING  async code being run in dedicated thread pool to not conflict with existing event loop: <_UnixSelectorEventLoop running=True closed=False debug=False>\n",
      "WARNING: 'split_pdf_cache_tmp_data' does not exist. Using default value '/tmp'.\n",
      "INFO: HTTP Request: GET https://api.unstructured.io/general/docs \"HTTP/1.1 200 OK\"\n",
      "INFO: HTTP Request: POST https://api.unstructured.io/general/v0/general \"HTTP/1.1 200 OK\"\n",
      "INFO: HTTP Request: POST https://api.unstructured.io/general/v0/general \"HTTP/1.1 200 OK\"\n",
      "INFO: HTTP Request: POST https://api.unstructured.io/general/v0/general \"HTTP/1.1 200 OK\"\n",
      "INFO: HTTP Request: POST https://api.unstructured.io/general/v0/general \"HTTP/1.1 200 OK\"\n",
      "INFO: HTTP Request: POST https://api.unstructured.io/general/v0/general \"HTTP/1.1 200 OK\"\n",
      "INFO: HTTP Request: POST https://api.unstructured.io/general/v0/general \"HTTP/1.1 200 OK\"\n",
      "INFO: HTTP Request: POST https://api.unstructured.io/general/v0/general \"HTTP/1.1 200 OK\"\n",
      "INFO: HTTP Request: POST https://api.unstructured.io/general/v0/general \"HTTP/1.1 200 OK\"\n",
      "INFO: HTTP Request: POST https://api.unstructured.io/general/v0/general \"HTTP/1.1 200 OK\"\n",
      "INFO: HTTP Request: POST https://api.unstructured.io/general/v0/general \"HTTP/1.1 200 OK\"\n",
      "INFO: HTTP Request: POST https://api.unstructured.io/general/v0/general \"HTTP/1.1 200 OK\"\n",
      "INFO: HTTP Request: POST https://api.unstructured.io/general/v0/general \"HTTP/1.1 200 OK\"\n",
      "INFO: HTTP Request: POST https://api.unstructured.io/general/v0/general \"HTTP/1.1 200 OK\"\n",
      "INFO: HTTP Request: POST https://api.unstructured.io/general/v0/general \"HTTP/1.1 200 OK\"\n",
      "2025-01-14 16:07:55,867 MainProcess INFO     partition finished in 21.619237932s, attributes: file_id=1788a7856d10\n",
      "INFO: partition finished in 21.619237932s, attributes: file_id=1788a7856d10\n",
      "2025-01-14 16:07:55,869 MainProcess INFO     partition step finished in 21.623671654s\n",
      "INFO: partition step finished in 21.623671654s\n",
      "2025-01-14 16:07:55,871 MainProcess INFO     calling UploadStep with 1 docs\n",
      "INFO: calling UploadStep with 1 docs\n",
      "2025-01-14 16:07:55,872 MainProcess INFO     processing content across processes\n",
      "INFO: processing content across processes\n",
      "2025-01-14 16:07:55,873 MainProcess INFO     processing content serially\n",
      "INFO: processing content serially\n",
      "2025-01-14 16:07:55,874 MainProcess WARNING  async code being run in dedicated thread pool to not conflict with existing event loop: <_UnixSelectorEventLoop running=True closed=False debug=False>\n",
      "WARNING: async code being run in dedicated thread pool to not conflict with existing event loop: <_UnixSelectorEventLoop running=True closed=False debug=False>\n",
      "2025-01-14 16:07:55,878 MainProcess INFO     upload finished in 0.001678853s, attributes: file_id=1788a7856d10\n",
      "INFO: upload finished in 0.001678853s, attributes: file_id=1788a7856d10\n",
      "2025-01-14 16:07:55,880 MainProcess INFO     upload finished in 0.005805954s, attributes: file_id=1788a7856d10\n",
      "INFO: upload finished in 0.005805954s, attributes: file_id=1788a7856d10\n",
      "2025-01-14 16:07:55,881 MainProcess INFO     upload step finished in 0.009928498s\n",
      "INFO: upload step finished in 0.009928498s\n",
      "2025-01-14 16:07:55,882 MainProcess INFO     ingest process finished in 21.665298589s\n",
      "INFO: ingest process finished in 21.665298589s\n"
     ]
    }
   ],
   "source": [
    "directory_with_pdfs=\"content/data\"\n",
    "directory_with_results=\"content/output\"\n",
    "\n",
    "Pipeline.from_configs(\n",
    "    context=ProcessorConfig(),\n",
    "    indexer_config=LocalIndexerConfig(input_path=directory_with_pdfs),\n",
    "    downloader_config=LocalDownloaderConfig(),\n",
    "    source_connection_config=LocalConnectionConfig(),\n",
    "    partitioner_config=PartitionerConfig(\n",
    "        partition_by_api=True,\n",
    "        api_key=os.getenv(\"UNSTRUCTURED_API_KEY\"),\n",
    "        partition_endpoint=os.getenv(\"UNSTRUCTURED_API_URL\"),\n",
    "        strategy=\"hi_res\",\n",
    "        additional_partition_args={\n",
    "            \"split_pdf_page\": True,\n",
    "            \"split_pdf_concurrency_level\": 15,\n",
    "            },\n",
    "        ),\n",
    "    uploader_config=LocalUploaderConfig(output_dir=directory_with_results)\n",
    ").run()\n"
   ]
  },
  {
   "cell_type": "code",
   "execution_count": 6,
   "metadata": {},
   "outputs": [],
   "source": [
    "import os\n",
    "directory_with_results=\"content/output\"\n",
    "\n",
    "from unstructured.staging.base import elements_from_json\n",
    "\n",
    "def load_processed_files(directory_path):\n",
    "    elements = []\n",
    "    for filename in os.listdir(directory_path):\n",
    "        if filename.endswith('.json'):\n",
    "            file_path = os.path.join(directory_path, filename)\n",
    "            try:\n",
    "                elements.extend(elements_from_json(filename=file_path))\n",
    "            except IOError:\n",
    "                print(f\"Error: Could not read file {filename}.\")\n",
    "\n",
    "    return elements\n",
    "\n",
    "elements = load_processed_files(directory_with_results)"
   ]
  }
 ],
 "metadata": {
  "kernelspec": {
   "display_name": "Python 3",
   "language": "python",
   "name": "python3"
  },
  "language_info": {
   "codemirror_mode": {
    "name": "ipython",
    "version": 3
   },
   "file_extension": ".py",
   "mimetype": "text/x-python",
   "name": "python",
   "nbconvert_exporter": "python",
   "pygments_lexer": "ipython3",
   "version": "3.12.1"
  }
 },
 "nbformat": 4,
 "nbformat_minor": 2
}
