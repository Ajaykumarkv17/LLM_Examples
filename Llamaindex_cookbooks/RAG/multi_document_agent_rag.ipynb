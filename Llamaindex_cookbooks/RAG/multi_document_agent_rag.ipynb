{
 "cells": [
  {
   "cell_type": "code",
   "execution_count": null,
   "metadata": {},
   "outputs": [],
   "source": [
    "%pip install llama-index-core\n",
    "%pip install llama-index-agent-openai\n",
    "%pip install llama-index-readers-file\n",
    "%pip install llama-index-postprocessor-cohere-rerank\n",
    "%pip install llama-index-llms-openai\n",
    "%pip install llama-index-embeddings-openai\n",
    "%pip install unstructured[html]"
   ]
  },
  {
   "cell_type": "code",
   "execution_count": 8,
   "metadata": {},
   "outputs": [],
   "source": [
    "from llama_index.readers.file import UnstructuredReader\n",
    "\n",
    "reader = UnstructuredReader(api_key=\"1cBV9jD9Ewap2ow3q2BEUeEz3EA57a\",url=\"https://api.unstructured.io/general/v0/general\")"
   ]
  },
  {
   "cell_type": "code",
   "execution_count": 37,
   "metadata": {},
   "outputs": [],
   "source": [
    "from pathlib import Path\n",
    "\n",
    "all_files_gen = Path(\"./docs.llamaindex.ai/\").rglob(\"*\")\n",
    "all_files = [f.resolve() for f in all_files_gen]"
   ]
  },
  {
   "cell_type": "code",
   "execution_count": 38,
   "metadata": {},
   "outputs": [
    {
     "data": {
      "text/plain": [
       "[WindowsPath('C:/Users/AjaykumarKV/Documents/LLM_Cookbooks/LLM_Examples/Llamaindex_cookbooks/RAG/docs.llamaindex.ai/AdvancedRetrievalStrategiesLlamaIndex.html'),\n",
       " WindowsPath('C:/Users/AjaykumarKV/Documents/LLM_Cookbooks/LLM_Examples/Llamaindex_cookbooks/RAG/docs.llamaindex.ai/BuildingPerformantRAGApplicationsforProductionLlamaIndex.html'),\n",
       " WindowsPath('C:/Users/AjaykumarKV/Documents/LLM_Cookbooks/LLM_Examples/Llamaindex_cookbooks/RAG/docs.llamaindex.ai/index.html'),\n",
       " WindowsPath('C:/Users/AjaykumarKV/Documents/LLM_Cookbooks/LLM_Examples/Llamaindex_cookbooks/RAG/docs.llamaindex.ai/NodeParserUsagePatternLlamaIndex.html'),\n",
       " WindowsPath('C:/Users/AjaykumarKV/Documents/LLM_Cookbooks/LLM_Examples/Llamaindex_cookbooks/RAG/docs.llamaindex.ai/QueryTransformationsLlamaIndex.html'),\n",
       " WindowsPath('C:/Users/AjaykumarKV/Documents/LLM_Cookbooks/LLM_Examples/Llamaindex_cookbooks/RAG/docs.llamaindex.ai/UsagepatternLlamaIndex.html')]"
      ]
     },
     "execution_count": 38,
     "metadata": {},
     "output_type": "execute_result"
    }
   ],
   "source": [
    "all_files"
   ]
  },
  {
   "cell_type": "code",
   "execution_count": 39,
   "metadata": {},
   "outputs": [],
   "source": [
    "all_html_files = [f for f in all_files if f.suffix.lower() == \".html\"]"
   ]
  },
  {
   "cell_type": "code",
   "execution_count": 40,
   "metadata": {},
   "outputs": [
    {
     "data": {
      "text/plain": [
       "6"
      ]
     },
     "execution_count": 40,
     "metadata": {},
     "output_type": "execute_result"
    }
   ],
   "source": [
    "len(all_html_files)"
   ]
  },
  {
   "cell_type": "code",
   "execution_count": null,
   "metadata": {},
   "outputs": [
    {
     "name": "stdout",
     "output_type": "stream",
     "text": [
      "Idx 0/6\n"
     ]
    },
    {
     "name": "stderr",
     "output_type": "stream",
     "text": [
      "INFO: HTTP Request: POST https://api.unstructured.io/general/v0/general \"HTTP/1.1 200 OK\"\n"
     ]
    },
    {
     "name": "stdout",
     "output_type": "stream",
     "text": [
      "C:\\Users\\AjaykumarKV\\Documents\\LLM_Cookbooks\\LLM_Examples\\Llamaindex_cookbooks\\RAG\\docs.llamaindex.ai\\AdvancedRetrievalStrategiesLlamaIndex.html\n",
      "Idx 1/6\n"
     ]
    },
    {
     "name": "stderr",
     "output_type": "stream",
     "text": [
      "INFO: HTTP Request: POST https://api.unstructured.io/general/v0/general \"HTTP/1.1 200 OK\"\n"
     ]
    },
    {
     "name": "stdout",
     "output_type": "stream",
     "text": [
      "C:\\Users\\AjaykumarKV\\Documents\\LLM_Cookbooks\\LLM_Examples\\Llamaindex_cookbooks\\RAG\\docs.llamaindex.ai\\BuildingPerformantRAGApplicationsforProductionLlamaIndex.html\n",
      "Idx 2/6\n"
     ]
    },
    {
     "name": "stderr",
     "output_type": "stream",
     "text": [
      "INFO: HTTP Request: POST https://api.unstructured.io/general/v0/general \"HTTP/1.1 200 OK\"\n"
     ]
    },
    {
     "name": "stdout",
     "output_type": "stream",
     "text": [
      "C:\\Users\\AjaykumarKV\\Documents\\LLM_Cookbooks\\LLM_Examples\\Llamaindex_cookbooks\\RAG\\docs.llamaindex.ai\\index.html\n",
      "Idx 3/6\n"
     ]
    },
    {
     "name": "stderr",
     "output_type": "stream",
     "text": [
      "INFO: HTTP Request: POST https://api.unstructured.io/general/v0/general \"HTTP/1.1 200 OK\"\n"
     ]
    },
    {
     "name": "stdout",
     "output_type": "stream",
     "text": [
      "C:\\Users\\AjaykumarKV\\Documents\\LLM_Cookbooks\\LLM_Examples\\Llamaindex_cookbooks\\RAG\\docs.llamaindex.ai\\NodeParserUsagePatternLlamaIndex.html\n",
      "Idx 4/6\n"
     ]
    },
    {
     "name": "stderr",
     "output_type": "stream",
     "text": [
      "INFO: HTTP Request: POST https://api.unstructured.io/general/v0/general \"HTTP/1.1 200 OK\"\n"
     ]
    },
    {
     "name": "stdout",
     "output_type": "stream",
     "text": [
      "C:\\Users\\AjaykumarKV\\Documents\\LLM_Cookbooks\\LLM_Examples\\Llamaindex_cookbooks\\RAG\\docs.llamaindex.ai\\QueryTransformationsLlamaIndex.html\n",
      "Idx 5/6\n"
     ]
    },
    {
     "name": "stderr",
     "output_type": "stream",
     "text": [
      "INFO: HTTP Request: POST https://api.unstructured.io/general/v0/general \"HTTP/1.1 200 OK\"\n"
     ]
    },
    {
     "name": "stdout",
     "output_type": "stream",
     "text": [
      "C:\\Users\\AjaykumarKV\\Documents\\LLM_Cookbooks\\LLM_Examples\\Llamaindex_cookbooks\\RAG\\docs.llamaindex.ai\\UsagepatternLlamaIndex.html\n"
     ]
    }
   ],
   "source": [
    "from llama_index.core import Document\n",
    "\n",
    "\n",
    "doc_limit = 100\n",
    "\n",
    "docs = []\n",
    "for idx, f in enumerate(all_html_files):\n",
    "    if idx > doc_limit:\n",
    "        break\n",
    "    print(f\"Idx {idx}/{len(all_html_files)}\")\n",
    "    loaded_docs = reader.load_data(file=f, split_documents=True)\n",
    "    \n",
    "    \n",
    "    loaded_doc = Document(\n",
    "        text=\"\\n\\n\".join([d.get_content() for d in loaded_docs[72:]]),\n",
    "        metadata={\"path\": str(f)},\n",
    "    )\n",
    "    print(loaded_doc.metadata[\"path\"])\n",
    "    docs.append(loaded_doc)"
   ]
  },
  {
   "cell_type": "code",
   "execution_count": 47,
   "metadata": {},
   "outputs": [
    {
     "data": {
      "text/plain": [
       "[TextNode(id_='a682e552f58486dd0d206ecb8f58a247', embedding=None, metadata={'category_depth': 0, 'languages': '[\"eng\"]', 'filename': 'UsagepatternLlamaIndex.html', 'filetype': 'text/html', 'sequence_number': 0}, excluded_embed_metadata_keys=[], excluded_llm_metadata_keys=[], relationships={<NodeRelationship.SOURCE: '1'>: RelatedNodeInfo(node_id='UsagepatternLlamaIndex.html', node_type=<ObjectType.DOCUMENT: '4'>, metadata={'category_depth': 0, 'languages': '[\"eng\"]', 'filename': 'UsagepatternLlamaIndex.html', 'filetype': 'text/html'}, hash='01d00ce1baa67010cb921361004ea35db550f00efb6cea987fc2719e237ccc00')}, metadata_template='{key}: {value}', metadata_separator='\\n', text='Usage pattern', mimetype='text/plain', start_char_idx=None, end_char_idx=None, metadata_seperator='\\n', text_template='{metadata_str}\\n\\n{content}'),\n",
       " TextNode(id_='83859194a0db9e999a4279fca6be9f12', embedding=None, metadata={'category_depth': 1, 'link_texts': '[\"#\"]', 'link_urls': '[\"#usage-pattern\"]', 'languages': '[\"eng\"]', 'filename': 'UsagepatternLlamaIndex.html', 'filetype': 'text/html', 'parent_id': 'a682e552f58486dd0d206ecb8f58a247', 'sequence_number': 1}, excluded_embed_metadata_keys=[], excluded_llm_metadata_keys=[], relationships={<NodeRelationship.SOURCE: '1'>: RelatedNodeInfo(node_id='UsagepatternLlamaIndex.html', node_type=<ObjectType.DOCUMENT: '4'>, metadata={'category_depth': 0, 'languages': '[\"eng\"]', 'filename': 'UsagepatternLlamaIndex.html', 'filetype': 'text/html'}, hash='01d00ce1baa67010cb921361004ea35db550f00efb6cea987fc2719e237ccc00')}, metadata_template='{key}: {value}', metadata_separator='\\n', text='Usage Pattern#', mimetype='text/plain', start_char_idx=None, end_char_idx=None, metadata_seperator='\\n', text_template='{metadata_str}\\n\\n{content}'),\n",
       " TextNode(id_='4e73a0f05fcf49a856bfc60a71f9c0c0', embedding=None, metadata={'category_depth': 2, 'link_texts': '[\"#\"]', 'link_urls': '[\"#defining-a-custom-prompt\"]', 'languages': '[\"eng\"]', 'filename': 'UsagepatternLlamaIndex.html', 'filetype': 'text/html', 'parent_id': '83859194a0db9e999a4279fca6be9f12', 'sequence_number': 2}, excluded_embed_metadata_keys=[], excluded_llm_metadata_keys=[], relationships={<NodeRelationship.SOURCE: '1'>: RelatedNodeInfo(node_id='UsagepatternLlamaIndex.html', node_type=<ObjectType.DOCUMENT: '4'>, metadata={'category_depth': 0, 'languages': '[\"eng\"]', 'filename': 'UsagepatternLlamaIndex.html', 'filetype': 'text/html'}, hash='01d00ce1baa67010cb921361004ea35db550f00efb6cea987fc2719e237ccc00')}, metadata_template='{key}: {value}', metadata_separator='\\n', text='Defining a custom prompt#', mimetype='text/plain', start_char_idx=None, end_char_idx=None, metadata_seperator='\\n', text_template='{metadata_str}\\n\\n{content}'),\n",
       " TextNode(id_='ee03be18a52304e3554d81ff3d6743c5', embedding=None, metadata={'languages': '[\"eng\"]', 'filename': 'UsagepatternLlamaIndex.html', 'filetype': 'text/html', 'parent_id': '4e73a0f05fcf49a856bfc60a71f9c0c0', 'sequence_number': 3}, excluded_embed_metadata_keys=[], excluded_llm_metadata_keys=[], relationships={<NodeRelationship.SOURCE: '1'>: RelatedNodeInfo(node_id='UsagepatternLlamaIndex.html', node_type=<ObjectType.DOCUMENT: '4'>, metadata={'category_depth': 0, 'languages': '[\"eng\"]', 'filename': 'UsagepatternLlamaIndex.html', 'filetype': 'text/html'}, hash='01d00ce1baa67010cb921361004ea35db550f00efb6cea987fc2719e237ccc00')}, metadata_template='{key}: {value}', metadata_separator='\\n', text='Defining a custom prompt is as simple as creating a format string', mimetype='text/plain', start_char_idx=None, end_char_idx=None, metadata_seperator='\\n', text_template='{metadata_str}\\n\\n{content}'),\n",
       " TextNode(id_='cdb83ac8148a6db8f6ddbd3faca9acaa', embedding=None, metadata={'languages': '[\"eng\"]', 'filename': 'UsagepatternLlamaIndex.html', 'filetype': 'text/html', 'parent_id': '4e73a0f05fcf49a856bfc60a71f9c0c0', 'sequence_number': 4}, excluded_embed_metadata_keys=[], excluded_llm_metadata_keys=[], relationships={<NodeRelationship.SOURCE: '1'>: RelatedNodeInfo(node_id='UsagepatternLlamaIndex.html', node_type=<ObjectType.DOCUMENT: '4'>, metadata={'category_depth': 0, 'languages': '[\"eng\"]', 'filename': 'UsagepatternLlamaIndex.html', 'filetype': 'text/html'}, hash='01d00ce1baa67010cb921361004ea35db550f00efb6cea987fc2719e237ccc00')}, metadata_template='{key}: {value}', metadata_separator='\\n', text='from llama_index.core import PromptTemplate\\n\\ntemplate = (\\n    \"We have provided context information below. \\\\n\"\\n    \"---------------------\\\\n\"\\n    \"{context_str}\"\\n    \"\\\\n---------------------\\\\n\"\\n    \"Given this information, please answer the question: {query_str}\\\\n\"\\n)\\nqa_template = PromptTemplate(template)\\n\\n# you can create text prompt (for completion API)\\nprompt = qa_template.format(context_str=..., query_str=...)\\n\\n# or easily convert to message prompts (for chat API)\\nmessages = qa_template.format_messages(context_str=..., query_str=...)', mimetype='text/plain', start_char_idx=None, end_char_idx=None, metadata_seperator='\\n', text_template='{metadata_str}\\n\\n{content}'),\n",
       " TextNode(id_='8293512691c72796015bb359d2538c44', embedding=None, metadata={'languages': '[\"eng\"]', 'filename': 'UsagepatternLlamaIndex.html', 'filetype': 'text/html', 'parent_id': '4e73a0f05fcf49a856bfc60a71f9c0c0', 'sequence_number': 5}, excluded_embed_metadata_keys=[], excluded_llm_metadata_keys=[], relationships={<NodeRelationship.SOURCE: '1'>: RelatedNodeInfo(node_id='UsagepatternLlamaIndex.html', node_type=<ObjectType.DOCUMENT: '4'>, metadata={'category_depth': 0, 'languages': '[\"eng\"]', 'filename': 'UsagepatternLlamaIndex.html', 'filetype': 'text/html'}, hash='01d00ce1baa67010cb921361004ea35db550f00efb6cea987fc2719e237ccc00')}, metadata_template='{key}: {value}', metadata_separator='\\n', text='Note: you may see references to legacy prompt subclasses such as QuestionAnswerPrompt, RefinePrompt. These have been deprecated (and now are type aliases of PromptTemplate). Now you can directly specify PromptTemplate(template) to construct custom prompts. But you still have to make sure the template string contains the expected parameters (e.g. {context_str} and {query_str}) when replacing a default question answer prompt.', mimetype='text/plain', start_char_idx=None, end_char_idx=None, metadata_seperator='\\n', text_template='{metadata_str}\\n\\n{content}'),\n",
       " TextNode(id_='ecbb70822cbba2efb50f531ddca6dab9', embedding=None, metadata={'languages': '[\"eng\"]', 'filename': 'UsagepatternLlamaIndex.html', 'filetype': 'text/html', 'parent_id': '4e73a0f05fcf49a856bfc60a71f9c0c0', 'sequence_number': 6}, excluded_embed_metadata_keys=[], excluded_llm_metadata_keys=[], relationships={<NodeRelationship.SOURCE: '1'>: RelatedNodeInfo(node_id='UsagepatternLlamaIndex.html', node_type=<ObjectType.DOCUMENT: '4'>, metadata={'category_depth': 0, 'languages': '[\"eng\"]', 'filename': 'UsagepatternLlamaIndex.html', 'filetype': 'text/html'}, hash='01d00ce1baa67010cb921361004ea35db550f00efb6cea987fc2719e237ccc00')}, metadata_template='{key}: {value}', metadata_separator='\\n', text='You can also define a template from chat messages', mimetype='text/plain', start_char_idx=None, end_char_idx=None, metadata_seperator='\\n', text_template='{metadata_str}\\n\\n{content}'),\n",
       " TextNode(id_='d4271d13912bc7bd9d217cccb862a2f7', embedding=None, metadata={'languages': '[\"eng\"]', 'filename': 'UsagepatternLlamaIndex.html', 'filetype': 'text/html', 'parent_id': '4e73a0f05fcf49a856bfc60a71f9c0c0', 'sequence_number': 7}, excluded_embed_metadata_keys=[], excluded_llm_metadata_keys=[], relationships={<NodeRelationship.SOURCE: '1'>: RelatedNodeInfo(node_id='UsagepatternLlamaIndex.html', node_type=<ObjectType.DOCUMENT: '4'>, metadata={'category_depth': 0, 'languages': '[\"eng\"]', 'filename': 'UsagepatternLlamaIndex.html', 'filetype': 'text/html'}, hash='01d00ce1baa67010cb921361004ea35db550f00efb6cea987fc2719e237ccc00')}, metadata_template='{key}: {value}', metadata_separator='\\n', text='from llama_index.core import ChatPromptTemplate\\nfrom llama_index.core.llms import ChatMessage, MessageRole\\n\\nmessage_templates = [\\n    ChatMessage(content=\"You are an expert system.\", role=MessageRole.SYSTEM),\\n    ChatMessage(\\n        content=\"Generate a short story about {topic}\",\\n        role=MessageRole.USER,\\n    ),\\n]\\nchat_template = ChatPromptTemplate(message_templates=message_templates)\\n\\n# you can create message prompts (for chat API)\\nmessages = chat_template.format_messages(topic=...)\\n\\n# or easily convert to text prompt (for completion API)\\nprompt = chat_template.format(topic=...)', mimetype='text/plain', start_char_idx=None, end_char_idx=None, metadata_seperator='\\n', text_template='{metadata_str}\\n\\n{content}'),\n",
       " TextNode(id_='595a6b236bae7c117115eb38660da8ed', embedding=None, metadata={'category_depth': 2, 'link_texts': '[\"#\"]', 'link_urls': '[\"#getting-and-setting-custom-prompts\"]', 'languages': '[\"eng\"]', 'filename': 'UsagepatternLlamaIndex.html', 'filetype': 'text/html', 'parent_id': '83859194a0db9e999a4279fca6be9f12', 'sequence_number': 8}, excluded_embed_metadata_keys=[], excluded_llm_metadata_keys=[], relationships={<NodeRelationship.SOURCE: '1'>: RelatedNodeInfo(node_id='UsagepatternLlamaIndex.html', node_type=<ObjectType.DOCUMENT: '4'>, metadata={'category_depth': 0, 'languages': '[\"eng\"]', 'filename': 'UsagepatternLlamaIndex.html', 'filetype': 'text/html'}, hash='01d00ce1baa67010cb921361004ea35db550f00efb6cea987fc2719e237ccc00')}, metadata_template='{key}: {value}', metadata_separator='\\n', text='Getting and Setting Custom Prompts#', mimetype='text/plain', start_char_idx=None, end_char_idx=None, metadata_seperator='\\n', text_template='{metadata_str}\\n\\n{content}'),\n",
       " TextNode(id_='2f1ed7601a0766e10561d51b26765909', embedding=None, metadata={'languages': '[\"eng\"]', 'filename': 'UsagepatternLlamaIndex.html', 'filetype': 'text/html', 'parent_id': '595a6b236bae7c117115eb38660da8ed', 'sequence_number': 9}, excluded_embed_metadata_keys=[], excluded_llm_metadata_keys=[], relationships={<NodeRelationship.SOURCE: '1'>: RelatedNodeInfo(node_id='UsagepatternLlamaIndex.html', node_type=<ObjectType.DOCUMENT: '4'>, metadata={'category_depth': 0, 'languages': '[\"eng\"]', 'filename': 'UsagepatternLlamaIndex.html', 'filetype': 'text/html'}, hash='01d00ce1baa67010cb921361004ea35db550f00efb6cea987fc2719e237ccc00')}, metadata_template='{key}: {value}', metadata_separator='\\n', text=\"Since LlamaIndex is a multi-step pipeline, it's important to identify the operation that you want to modify and pass in the custom prompt at the right place.\", mimetype='text/plain', start_char_idx=None, end_char_idx=None, metadata_seperator='\\n', text_template='{metadata_str}\\n\\n{content}'),\n",
       " TextNode(id_='d95fef805969e489639e509529eb1c72', embedding=None, metadata={'languages': '[\"eng\"]', 'filename': 'UsagepatternLlamaIndex.html', 'filetype': 'text/html', 'parent_id': '595a6b236bae7c117115eb38660da8ed', 'sequence_number': 10}, excluded_embed_metadata_keys=[], excluded_llm_metadata_keys=[], relationships={<NodeRelationship.SOURCE: '1'>: RelatedNodeInfo(node_id='UsagepatternLlamaIndex.html', node_type=<ObjectType.DOCUMENT: '4'>, metadata={'category_depth': 0, 'languages': '[\"eng\"]', 'filename': 'UsagepatternLlamaIndex.html', 'filetype': 'text/html'}, hash='01d00ce1baa67010cb921361004ea35db550f00efb6cea987fc2719e237ccc00')}, metadata_template='{key}: {value}', metadata_separator='\\n', text='For instance, prompts are used in response synthesizer, retrievers, index construction, etc; some of these modules are nested in other modules (synthesizer is nested in query engine).', mimetype='text/plain', start_char_idx=None, end_char_idx=None, metadata_seperator='\\n', text_template='{metadata_str}\\n\\n{content}'),\n",
       " TextNode(id_='8e34e14d9f031cf0b3b2b825a1906fe6', embedding=None, metadata={'link_texts': '[\"this guide\"]', 'link_urls': '[\"../../../../examples/prompts/prompt_mixin/\"]', 'languages': '[\"eng\"]', 'filename': 'UsagepatternLlamaIndex.html', 'filetype': 'text/html', 'parent_id': '595a6b236bae7c117115eb38660da8ed', 'sequence_number': 11}, excluded_embed_metadata_keys=[], excluded_llm_metadata_keys=[], relationships={<NodeRelationship.SOURCE: '1'>: RelatedNodeInfo(node_id='UsagepatternLlamaIndex.html', node_type=<ObjectType.DOCUMENT: '4'>, metadata={'category_depth': 0, 'languages': '[\"eng\"]', 'filename': 'UsagepatternLlamaIndex.html', 'filetype': 'text/html'}, hash='01d00ce1baa67010cb921361004ea35db550f00efb6cea987fc2719e237ccc00')}, metadata_template='{key}: {value}', metadata_separator='\\n', text='See this guide for full details on accessing/customizing prompts.', mimetype='text/plain', start_char_idx=None, end_char_idx=None, metadata_seperator='\\n', text_template='{metadata_str}\\n\\n{content}'),\n",
       " TextNode(id_='85f42060113f20a7a76e7c1448892941', embedding=None, metadata={'category_depth': 3, 'link_texts': '[\"#\"]', 'link_urls': '[\"#commonly-used-prompts\"]', 'languages': '[\"eng\"]', 'filename': 'UsagepatternLlamaIndex.html', 'filetype': 'text/html', 'parent_id': '595a6b236bae7c117115eb38660da8ed', 'sequence_number': 12}, excluded_embed_metadata_keys=[], excluded_llm_metadata_keys=[], relationships={<NodeRelationship.SOURCE: '1'>: RelatedNodeInfo(node_id='UsagepatternLlamaIndex.html', node_type=<ObjectType.DOCUMENT: '4'>, metadata={'category_depth': 0, 'languages': '[\"eng\"]', 'filename': 'UsagepatternLlamaIndex.html', 'filetype': 'text/html'}, hash='01d00ce1baa67010cb921361004ea35db550f00efb6cea987fc2719e237ccc00')}, metadata_template='{key}: {value}', metadata_separator='\\n', text='Commonly Used Prompts#', mimetype='text/plain', start_char_idx=None, end_char_idx=None, metadata_seperator='\\n', text_template='{metadata_str}\\n\\n{content}'),\n",
       " TextNode(id_='96736ca880d4db1585861a9d1e28361f', embedding=None, metadata={'languages': '[\"eng\"]', 'filename': 'UsagepatternLlamaIndex.html', 'filetype': 'text/html', 'parent_id': '85f42060113f20a7a76e7c1448892941', 'sequence_number': 13}, excluded_embed_metadata_keys=[], excluded_llm_metadata_keys=[], relationships={<NodeRelationship.SOURCE: '1'>: RelatedNodeInfo(node_id='UsagepatternLlamaIndex.html', node_type=<ObjectType.DOCUMENT: '4'>, metadata={'category_depth': 0, 'languages': '[\"eng\"]', 'filename': 'UsagepatternLlamaIndex.html', 'filetype': 'text/html'}, hash='01d00ce1baa67010cb921361004ea35db550f00efb6cea987fc2719e237ccc00')}, metadata_template='{key}: {value}', metadata_separator='\\n', text='The most commonly used prompts will be the text_qa_template and the refine_template.', mimetype='text/plain', start_char_idx=None, end_char_idx=None, metadata_seperator='\\n', text_template='{metadata_str}\\n\\n{content}'),\n",
       " TextNode(id_='618e5a417c43fef6887c361a002ac30d', embedding=None, metadata={'category_depth': 1, 'languages': '[\"eng\"]', 'filename': 'UsagepatternLlamaIndex.html', 'filetype': 'text/html', 'parent_id': '85f42060113f20a7a76e7c1448892941', 'sequence_number': 14}, excluded_embed_metadata_keys=[], excluded_llm_metadata_keys=[], relationships={<NodeRelationship.SOURCE: '1'>: RelatedNodeInfo(node_id='UsagepatternLlamaIndex.html', node_type=<ObjectType.DOCUMENT: '4'>, metadata={'category_depth': 0, 'languages': '[\"eng\"]', 'filename': 'UsagepatternLlamaIndex.html', 'filetype': 'text/html'}, hash='01d00ce1baa67010cb921361004ea35db550f00efb6cea987fc2719e237ccc00')}, metadata_template='{key}: {value}', metadata_separator='\\n', text='text_qa_template - used to get an initial answer to a query using retrieved nodes', mimetype='text/plain', start_char_idx=None, end_char_idx=None, metadata_seperator='\\n', text_template='{metadata_str}\\n\\n{content}'),\n",
       " TextNode(id_='53ca645b68a1a3e97b813ecc390c3ec7', embedding=None, metadata={'category_depth': 1, 'languages': '[\"eng\"]', 'filename': 'UsagepatternLlamaIndex.html', 'filetype': 'text/html', 'parent_id': '85f42060113f20a7a76e7c1448892941', 'sequence_number': 15}, excluded_embed_metadata_keys=[], excluded_llm_metadata_keys=[], relationships={<NodeRelationship.SOURCE: '1'>: RelatedNodeInfo(node_id='UsagepatternLlamaIndex.html', node_type=<ObjectType.DOCUMENT: '4'>, metadata={'category_depth': 0, 'languages': '[\"eng\"]', 'filename': 'UsagepatternLlamaIndex.html', 'filetype': 'text/html'}, hash='01d00ce1baa67010cb921361004ea35db550f00efb6cea987fc2719e237ccc00')}, metadata_template='{key}: {value}', metadata_separator='\\n', text='refine_template - used when the retrieved text does not fit into a single LLM call with response_mode=\"compact\" (the default), or when more than one node is retrieved using response_mode=\"refine\". The answer from the first query is inserted as an existing_answer, and the LLM must update or repeat the existing answer based on the new context.', mimetype='text/plain', start_char_idx=None, end_char_idx=None, metadata_seperator='\\n', text_template='{metadata_str}\\n\\n{content}'),\n",
       " TextNode(id_='bdbc7828118a4880c02d7461e9237093', embedding=None, metadata={'category_depth': 3, 'link_texts': '[\"#\"]', 'link_urls': '[\"#accessing-prompts\"]', 'languages': '[\"eng\"]', 'filename': 'UsagepatternLlamaIndex.html', 'filetype': 'text/html', 'parent_id': '595a6b236bae7c117115eb38660da8ed', 'sequence_number': 16}, excluded_embed_metadata_keys=[], excluded_llm_metadata_keys=[], relationships={<NodeRelationship.SOURCE: '1'>: RelatedNodeInfo(node_id='UsagepatternLlamaIndex.html', node_type=<ObjectType.DOCUMENT: '4'>, metadata={'category_depth': 0, 'languages': '[\"eng\"]', 'filename': 'UsagepatternLlamaIndex.html', 'filetype': 'text/html'}, hash='01d00ce1baa67010cb921361004ea35db550f00efb6cea987fc2719e237ccc00')}, metadata_template='{key}: {value}', metadata_separator='\\n', text='Accessing Prompts#', mimetype='text/plain', start_char_idx=None, end_char_idx=None, metadata_seperator='\\n', text_template='{metadata_str}\\n\\n{content}'),\n",
       " TextNode(id_='61a9df61a8570c866f0d539b59668c99', embedding=None, metadata={'languages': '[\"eng\"]', 'filename': 'UsagepatternLlamaIndex.html', 'filetype': 'text/html', 'parent_id': 'bdbc7828118a4880c02d7461e9237093', 'sequence_number': 17}, excluded_embed_metadata_keys=[], excluded_llm_metadata_keys=[], relationships={<NodeRelationship.SOURCE: '1'>: RelatedNodeInfo(node_id='UsagepatternLlamaIndex.html', node_type=<ObjectType.DOCUMENT: '4'>, metadata={'category_depth': 0, 'languages': '[\"eng\"]', 'filename': 'UsagepatternLlamaIndex.html', 'filetype': 'text/html'}, hash='01d00ce1baa67010cb921361004ea35db550f00efb6cea987fc2719e237ccc00')}, metadata_template='{key}: {value}', metadata_separator='\\n', text='You can call get_prompts on many modules in LlamaIndex to get a flat list of prompts used within the module and nested submodules.', mimetype='text/plain', start_char_idx=None, end_char_idx=None, metadata_seperator='\\n', text_template='{metadata_str}\\n\\n{content}'),\n",
       " TextNode(id_='876dd0ad168f9a84943e4a202a1e0f8a', embedding=None, metadata={'languages': '[\"eng\"]', 'filename': 'UsagepatternLlamaIndex.html', 'filetype': 'text/html', 'parent_id': 'bdbc7828118a4880c02d7461e9237093', 'sequence_number': 18}, excluded_embed_metadata_keys=[], excluded_llm_metadata_keys=[], relationships={<NodeRelationship.SOURCE: '1'>: RelatedNodeInfo(node_id='UsagepatternLlamaIndex.html', node_type=<ObjectType.DOCUMENT: '4'>, metadata={'category_depth': 0, 'languages': '[\"eng\"]', 'filename': 'UsagepatternLlamaIndex.html', 'filetype': 'text/html'}, hash='01d00ce1baa67010cb921361004ea35db550f00efb6cea987fc2719e237ccc00')}, metadata_template='{key}: {value}', metadata_separator='\\n', text='For instance, take a look at the following snippet.', mimetype='text/plain', start_char_idx=None, end_char_idx=None, metadata_seperator='\\n', text_template='{metadata_str}\\n\\n{content}'),\n",
       " TextNode(id_='1c6c99e54c089f37731d52340361ba81', embedding=None, metadata={'languages': '[\"eng\"]', 'filename': 'UsagepatternLlamaIndex.html', 'filetype': 'text/html', 'parent_id': 'bdbc7828118a4880c02d7461e9237093', 'sequence_number': 19}, excluded_embed_metadata_keys=[], excluded_llm_metadata_keys=[], relationships={<NodeRelationship.SOURCE: '1'>: RelatedNodeInfo(node_id='UsagepatternLlamaIndex.html', node_type=<ObjectType.DOCUMENT: '4'>, metadata={'category_depth': 0, 'languages': '[\"eng\"]', 'filename': 'UsagepatternLlamaIndex.html', 'filetype': 'text/html'}, hash='01d00ce1baa67010cb921361004ea35db550f00efb6cea987fc2719e237ccc00')}, metadata_template='{key}: {value}', metadata_separator='\\n', text='query_engine = index.as_query_engine(response_mode=\"compact\")\\nprompts_dict = query_engine.get_prompts()\\nprint(list(prompts_dict.keys()))', mimetype='text/plain', start_char_idx=None, end_char_idx=None, metadata_seperator='\\n', text_template='{metadata_str}\\n\\n{content}'),\n",
       " TextNode(id_='aee7f7aa103790ff4a393f603f5d80d9', embedding=None, metadata={'languages': '[\"eng\"]', 'filename': 'UsagepatternLlamaIndex.html', 'filetype': 'text/html', 'parent_id': 'bdbc7828118a4880c02d7461e9237093', 'sequence_number': 20}, excluded_embed_metadata_keys=[], excluded_llm_metadata_keys=[], relationships={<NodeRelationship.SOURCE: '1'>: RelatedNodeInfo(node_id='UsagepatternLlamaIndex.html', node_type=<ObjectType.DOCUMENT: '4'>, metadata={'category_depth': 0, 'languages': '[\"eng\"]', 'filename': 'UsagepatternLlamaIndex.html', 'filetype': 'text/html'}, hash='01d00ce1baa67010cb921361004ea35db550f00efb6cea987fc2719e237ccc00')}, metadata_template='{key}: {value}', metadata_separator='\\n', text='You might get back the following keys:', mimetype='text/plain', start_char_idx=None, end_char_idx=None, metadata_seperator='\\n', text_template='{metadata_str}\\n\\n{content}'),\n",
       " TextNode(id_='b7acd57d5498f8fabc576fc85afa0289', embedding=None, metadata={'languages': '[\"eng\"]', 'filename': 'UsagepatternLlamaIndex.html', 'filetype': 'text/html', 'parent_id': 'bdbc7828118a4880c02d7461e9237093', 'sequence_number': 21}, excluded_embed_metadata_keys=[], excluded_llm_metadata_keys=[], relationships={<NodeRelationship.SOURCE: '1'>: RelatedNodeInfo(node_id='UsagepatternLlamaIndex.html', node_type=<ObjectType.DOCUMENT: '4'>, metadata={'category_depth': 0, 'languages': '[\"eng\"]', 'filename': 'UsagepatternLlamaIndex.html', 'filetype': 'text/html'}, hash='01d00ce1baa67010cb921361004ea35db550f00efb6cea987fc2719e237ccc00')}, metadata_template='{key}: {value}', metadata_separator='\\n', text=\"['response_synthesizer:text_qa_template', 'response_synthesizer:refine_template']\", mimetype='text/plain', start_char_idx=None, end_char_idx=None, metadata_seperator='\\n', text_template='{metadata_str}\\n\\n{content}'),\n",
       " TextNode(id_='e7202da6335da3d06efda8239303c3f1', embedding=None, metadata={'languages': '[\"eng\"]', 'filename': 'UsagepatternLlamaIndex.html', 'filetype': 'text/html', 'parent_id': 'bdbc7828118a4880c02d7461e9237093', 'sequence_number': 22}, excluded_embed_metadata_keys=[], excluded_llm_metadata_keys=[], relationships={<NodeRelationship.SOURCE: '1'>: RelatedNodeInfo(node_id='UsagepatternLlamaIndex.html', node_type=<ObjectType.DOCUMENT: '4'>, metadata={'category_depth': 0, 'languages': '[\"eng\"]', 'filename': 'UsagepatternLlamaIndex.html', 'filetype': 'text/html'}, hash='01d00ce1baa67010cb921361004ea35db550f00efb6cea987fc2719e237ccc00')}, metadata_template='{key}: {value}', metadata_separator='\\n', text='Note that prompts are prefixed by their sub-modules as \"namespaces\".', mimetype='text/plain', start_char_idx=None, end_char_idx=None, metadata_seperator='\\n', text_template='{metadata_str}\\n\\n{content}'),\n",
       " TextNode(id_='c0c064d67ebe88925c8fbe11b8fff9cc', embedding=None, metadata={'category_depth': 3, 'link_texts': '[\"#\"]', 'link_urls': '[\"#updating-prompts\"]', 'languages': '[\"eng\"]', 'filename': 'UsagepatternLlamaIndex.html', 'filetype': 'text/html', 'parent_id': '595a6b236bae7c117115eb38660da8ed', 'sequence_number': 23}, excluded_embed_metadata_keys=[], excluded_llm_metadata_keys=[], relationships={<NodeRelationship.SOURCE: '1'>: RelatedNodeInfo(node_id='UsagepatternLlamaIndex.html', node_type=<ObjectType.DOCUMENT: '4'>, metadata={'category_depth': 0, 'languages': '[\"eng\"]', 'filename': 'UsagepatternLlamaIndex.html', 'filetype': 'text/html'}, hash='01d00ce1baa67010cb921361004ea35db550f00efb6cea987fc2719e237ccc00')}, metadata_template='{key}: {value}', metadata_separator='\\n', text='Updating Prompts#', mimetype='text/plain', start_char_idx=None, end_char_idx=None, metadata_seperator='\\n', text_template='{metadata_str}\\n\\n{content}'),\n",
       " TextNode(id_='14582a5d8a141d066ef2c9162971e1f1', embedding=None, metadata={'languages': '[\"eng\"]', 'filename': 'UsagepatternLlamaIndex.html', 'filetype': 'text/html', 'parent_id': 'c0c064d67ebe88925c8fbe11b8fff9cc', 'sequence_number': 24}, excluded_embed_metadata_keys=[], excluded_llm_metadata_keys=[], relationships={<NodeRelationship.SOURCE: '1'>: RelatedNodeInfo(node_id='UsagepatternLlamaIndex.html', node_type=<ObjectType.DOCUMENT: '4'>, metadata={'category_depth': 0, 'languages': '[\"eng\"]', 'filename': 'UsagepatternLlamaIndex.html', 'filetype': 'text/html'}, hash='01d00ce1baa67010cb921361004ea35db550f00efb6cea987fc2719e237ccc00')}, metadata_template='{key}: {value}', metadata_separator='\\n', text='You can customize prompts on any module that implements get_prompts with the update_prompts function. Just pass in argument values with the keys equal to the keys you see in the prompt dictionary obtained through get_prompts.', mimetype='text/plain', start_char_idx=None, end_char_idx=None, metadata_seperator='\\n', text_template='{metadata_str}\\n\\n{content}'),\n",
       " TextNode(id_='17e34f5cca13915d1d6009690b0d3924', embedding=None, metadata={'languages': '[\"eng\"]', 'filename': 'UsagepatternLlamaIndex.html', 'filetype': 'text/html', 'parent_id': 'c0c064d67ebe88925c8fbe11b8fff9cc', 'sequence_number': 25}, excluded_embed_metadata_keys=[], excluded_llm_metadata_keys=[], relationships={<NodeRelationship.SOURCE: '1'>: RelatedNodeInfo(node_id='UsagepatternLlamaIndex.html', node_type=<ObjectType.DOCUMENT: '4'>, metadata={'category_depth': 0, 'languages': '[\"eng\"]', 'filename': 'UsagepatternLlamaIndex.html', 'filetype': 'text/html'}, hash='01d00ce1baa67010cb921361004ea35db550f00efb6cea987fc2719e237ccc00')}, metadata_template='{key}: {value}', metadata_separator='\\n', text='e.g. regarding the example above, we might do the following', mimetype='text/plain', start_char_idx=None, end_char_idx=None, metadata_seperator='\\n', text_template='{metadata_str}\\n\\n{content}'),\n",
       " TextNode(id_='9cbe5a93e212e782a859f9e38098be9d', embedding=None, metadata={'languages': '[\"eng\"]', 'filename': 'UsagepatternLlamaIndex.html', 'filetype': 'text/html', 'parent_id': 'c0c064d67ebe88925c8fbe11b8fff9cc', 'sequence_number': 26}, excluded_embed_metadata_keys=[], excluded_llm_metadata_keys=[], relationships={<NodeRelationship.SOURCE: '1'>: RelatedNodeInfo(node_id='UsagepatternLlamaIndex.html', node_type=<ObjectType.DOCUMENT: '4'>, metadata={'category_depth': 0, 'languages': '[\"eng\"]', 'filename': 'UsagepatternLlamaIndex.html', 'filetype': 'text/html'}, hash='01d00ce1baa67010cb921361004ea35db550f00efb6cea987fc2719e237ccc00')}, metadata_template='{key}: {value}', metadata_separator='\\n', text='# shakespeare!\\nqa_prompt_tmpl_str = (\\n    \"Context information is below.\\\\n\"\\n    \"---------------------\\\\n\"\\n    \"{context_str}\\\\n\"\\n    \"---------------------\\\\n\"\\n    \"Given the context information and not prior knowledge, \"\\n    \"answer the query in the style of a Shakespeare play.\\\\n\"\\n    \"Query: {query_str}\\\\n\"\\n    \"Answer: \"\\n)\\nqa_prompt_tmpl = PromptTemplate(qa_prompt_tmpl_str)\\n\\nquery_engine.update_prompts(\\n    {\"response_synthesizer:text_qa_template\": qa_prompt_tmpl}\\n)', mimetype='text/plain', start_char_idx=None, end_char_idx=None, metadata_seperator='\\n', text_template='{metadata_str}\\n\\n{content}'),\n",
       " TextNode(id_='f79532336ee51c8a68c49d9766979c2c', embedding=None, metadata={'category_depth': 3, 'link_texts': '[\"#\"]', 'link_urls': '[\"#modify-prompts-used-in-query-engine\"]', 'languages': '[\"eng\"]', 'filename': 'UsagepatternLlamaIndex.html', 'filetype': 'text/html', 'parent_id': '595a6b236bae7c117115eb38660da8ed', 'sequence_number': 27}, excluded_embed_metadata_keys=[], excluded_llm_metadata_keys=[], relationships={<NodeRelationship.SOURCE: '1'>: RelatedNodeInfo(node_id='UsagepatternLlamaIndex.html', node_type=<ObjectType.DOCUMENT: '4'>, metadata={'category_depth': 0, 'languages': '[\"eng\"]', 'filename': 'UsagepatternLlamaIndex.html', 'filetype': 'text/html'}, hash='01d00ce1baa67010cb921361004ea35db550f00efb6cea987fc2719e237ccc00')}, metadata_template='{key}: {value}', metadata_separator='\\n', text='Modify prompts used in query engine#', mimetype='text/plain', start_char_idx=None, end_char_idx=None, metadata_seperator='\\n', text_template='{metadata_str}\\n\\n{content}'),\n",
       " TextNode(id_='711875dfcc1a5a66a40eded914c16893', embedding=None, metadata={'languages': '[\"eng\"]', 'filename': 'UsagepatternLlamaIndex.html', 'filetype': 'text/html', 'parent_id': 'f79532336ee51c8a68c49d9766979c2c', 'sequence_number': 28}, excluded_embed_metadata_keys=[], excluded_llm_metadata_keys=[], relationships={<NodeRelationship.SOURCE: '1'>: RelatedNodeInfo(node_id='UsagepatternLlamaIndex.html', node_type=<ObjectType.DOCUMENT: '4'>, metadata={'category_depth': 0, 'languages': '[\"eng\"]', 'filename': 'UsagepatternLlamaIndex.html', 'filetype': 'text/html'}, hash='01d00ce1baa67010cb921361004ea35db550f00efb6cea987fc2719e237ccc00')}, metadata_template='{key}: {value}', metadata_separator='\\n', text='For query engines, you can also pass in custom prompts directly during query-time (i.e. for executing a query against an index and synthesizing the final response).', mimetype='text/plain', start_char_idx=None, end_char_idx=None, metadata_seperator='\\n', text_template='{metadata_str}\\n\\n{content}'),\n",
       " TextNode(id_='47582a5999d873c01c28e5363bfd8e3c', embedding=None, metadata={'languages': '[\"eng\"]', 'filename': 'UsagepatternLlamaIndex.html', 'filetype': 'text/html', 'parent_id': 'f79532336ee51c8a68c49d9766979c2c', 'sequence_number': 29}, excluded_embed_metadata_keys=[], excluded_llm_metadata_keys=[], relationships={<NodeRelationship.SOURCE: '1'>: RelatedNodeInfo(node_id='UsagepatternLlamaIndex.html', node_type=<ObjectType.DOCUMENT: '4'>, metadata={'category_depth': 0, 'languages': '[\"eng\"]', 'filename': 'UsagepatternLlamaIndex.html', 'filetype': 'text/html'}, hash='01d00ce1baa67010cb921361004ea35db550f00efb6cea987fc2719e237ccc00')}, metadata_template='{key}: {value}', metadata_separator='\\n', text='There are also two equivalent ways to override the prompts:', mimetype='text/plain', start_char_idx=None, end_char_idx=None, metadata_seperator='\\n', text_template='{metadata_str}\\n\\n{content}'),\n",
       " TextNode(id_='2bdcab5feab83e118b4c57ca9f45675c', embedding=None, metadata={'category_depth': 1, 'languages': '[\"eng\"]', 'filename': 'UsagepatternLlamaIndex.html', 'filetype': 'text/html', 'parent_id': 'f79532336ee51c8a68c49d9766979c2c', 'sequence_number': 30}, excluded_embed_metadata_keys=[], excluded_llm_metadata_keys=[], relationships={<NodeRelationship.SOURCE: '1'>: RelatedNodeInfo(node_id='UsagepatternLlamaIndex.html', node_type=<ObjectType.DOCUMENT: '4'>, metadata={'category_depth': 0, 'languages': '[\"eng\"]', 'filename': 'UsagepatternLlamaIndex.html', 'filetype': 'text/html'}, hash='01d00ce1baa67010cb921361004ea35db550f00efb6cea987fc2719e237ccc00')}, metadata_template='{key}: {value}', metadata_separator='\\n', text='via the high-level API', mimetype='text/plain', start_char_idx=None, end_char_idx=None, metadata_seperator='\\n', text_template='{metadata_str}\\n\\n{content}'),\n",
       " TextNode(id_='0d6f4d196f9f5068c3a0c8e785a99204', embedding=None, metadata={'languages': '[\"eng\"]', 'filename': 'UsagepatternLlamaIndex.html', 'filetype': 'text/html', 'parent_id': 'f79532336ee51c8a68c49d9766979c2c', 'sequence_number': 31}, excluded_embed_metadata_keys=[], excluded_llm_metadata_keys=[], relationships={<NodeRelationship.SOURCE: '1'>: RelatedNodeInfo(node_id='UsagepatternLlamaIndex.html', node_type=<ObjectType.DOCUMENT: '4'>, metadata={'category_depth': 0, 'languages': '[\"eng\"]', 'filename': 'UsagepatternLlamaIndex.html', 'filetype': 'text/html'}, hash='01d00ce1baa67010cb921361004ea35db550f00efb6cea987fc2719e237ccc00')}, metadata_template='{key}: {value}', metadata_separator='\\n', text='query_engine = index.as_query_engine(\\n    text_qa_template=custom_qa_prompt, refine_template=custom_refine_prompt\\n)', mimetype='text/plain', start_char_idx=None, end_char_idx=None, metadata_seperator='\\n', text_template='{metadata_str}\\n\\n{content}'),\n",
       " TextNode(id_='681548cb562bb8163e1418bb524e45f2', embedding=None, metadata={'category_depth': 1, 'languages': '[\"eng\"]', 'filename': 'UsagepatternLlamaIndex.html', 'filetype': 'text/html', 'parent_id': 'f79532336ee51c8a68c49d9766979c2c', 'sequence_number': 32}, excluded_embed_metadata_keys=[], excluded_llm_metadata_keys=[], relationships={<NodeRelationship.SOURCE: '1'>: RelatedNodeInfo(node_id='UsagepatternLlamaIndex.html', node_type=<ObjectType.DOCUMENT: '4'>, metadata={'category_depth': 0, 'languages': '[\"eng\"]', 'filename': 'UsagepatternLlamaIndex.html', 'filetype': 'text/html'}, hash='01d00ce1baa67010cb921361004ea35db550f00efb6cea987fc2719e237ccc00')}, metadata_template='{key}: {value}', metadata_separator='\\n', text='via the low-level composition API', mimetype='text/plain', start_char_idx=None, end_char_idx=None, metadata_seperator='\\n', text_template='{metadata_str}\\n\\n{content}'),\n",
       " TextNode(id_='ae8fbd51a1a050fd2da6ab27074b3fd1', embedding=None, metadata={'languages': '[\"eng\"]', 'filename': 'UsagepatternLlamaIndex.html', 'filetype': 'text/html', 'parent_id': 'f79532336ee51c8a68c49d9766979c2c', 'sequence_number': 33}, excluded_embed_metadata_keys=[], excluded_llm_metadata_keys=[], relationships={<NodeRelationship.SOURCE: '1'>: RelatedNodeInfo(node_id='UsagepatternLlamaIndex.html', node_type=<ObjectType.DOCUMENT: '4'>, metadata={'category_depth': 0, 'languages': '[\"eng\"]', 'filename': 'UsagepatternLlamaIndex.html', 'filetype': 'text/html'}, hash='01d00ce1baa67010cb921361004ea35db550f00efb6cea987fc2719e237ccc00')}, metadata_template='{key}: {value}', metadata_separator='\\n', text='retriever = index.as_retriever()\\nsynth = get_response_synthesizer(\\n    text_qa_template=custom_qa_prompt, refine_template=custom_refine_prompt\\n)\\nquery_engine = RetrieverQueryEngine(retriever, response_synthesizer)', mimetype='text/plain', start_char_idx=None, end_char_idx=None, metadata_seperator='\\n', text_template='{metadata_str}\\n\\n{content}'),\n",
       " TextNode(id_='dd4c333ba43733ba6f903b7b27610414', embedding=None, metadata={'languages': '[\"eng\"]', 'filename': 'UsagepatternLlamaIndex.html', 'filetype': 'text/html', 'parent_id': 'f79532336ee51c8a68c49d9766979c2c', 'sequence_number': 34}, excluded_embed_metadata_keys=[], excluded_llm_metadata_keys=[], relationships={<NodeRelationship.SOURCE: '1'>: RelatedNodeInfo(node_id='UsagepatternLlamaIndex.html', node_type=<ObjectType.DOCUMENT: '4'>, metadata={'category_depth': 0, 'languages': '[\"eng\"]', 'filename': 'UsagepatternLlamaIndex.html', 'filetype': 'text/html'}, hash='01d00ce1baa67010cb921361004ea35db550f00efb6cea987fc2719e237ccc00')}, metadata_template='{key}: {value}', metadata_separator='\\n', text='The two approaches above are equivalent, where 1 is essentially syntactic sugar for 2 and hides away the underlying complexity. You might want to use 1 to quickly modify some common parameters, and use 2 to have more granular control.', mimetype='text/plain', start_char_idx=None, end_char_idx=None, metadata_seperator='\\n', text_template='{metadata_str}\\n\\n{content}'),\n",
       " TextNode(id_='80689c220640b99bbef26c61a084ed7d', embedding=None, metadata={'link_texts': '[\"Query class references\"]', 'link_urls': '[\"../../../../api_reference/response_synthesizers/\"]', 'languages': '[\"eng\"]', 'filename': 'UsagepatternLlamaIndex.html', 'filetype': 'text/html', 'parent_id': 'f79532336ee51c8a68c49d9766979c2c', 'sequence_number': 35}, excluded_embed_metadata_keys=[], excluded_llm_metadata_keys=[], relationships={<NodeRelationship.SOURCE: '1'>: RelatedNodeInfo(node_id='UsagepatternLlamaIndex.html', node_type=<ObjectType.DOCUMENT: '4'>, metadata={'category_depth': 0, 'languages': '[\"eng\"]', 'filename': 'UsagepatternLlamaIndex.html', 'filetype': 'text/html'}, hash='01d00ce1baa67010cb921361004ea35db550f00efb6cea987fc2719e237ccc00')}, metadata_template='{key}: {value}', metadata_separator='\\n', text='For more details on which classes use which prompts, please visit Query class references.', mimetype='text/plain', start_char_idx=None, end_char_idx=None, metadata_seperator='\\n', text_template='{metadata_str}\\n\\n{content}'),\n",
       " TextNode(id_='de74afd33bb8332f4dd1b70e5a284e42', embedding=None, metadata={'link_texts': '[\"reference documentation\"]', 'link_urls': '[\"../../../../api_reference/prompts/\"]', 'languages': '[\"eng\"]', 'filename': 'UsagepatternLlamaIndex.html', 'filetype': 'text/html', 'parent_id': 'f79532336ee51c8a68c49d9766979c2c', 'sequence_number': 36}, excluded_embed_metadata_keys=[], excluded_llm_metadata_keys=[], relationships={<NodeRelationship.SOURCE: '1'>: RelatedNodeInfo(node_id='UsagepatternLlamaIndex.html', node_type=<ObjectType.DOCUMENT: '4'>, metadata={'category_depth': 0, 'languages': '[\"eng\"]', 'filename': 'UsagepatternLlamaIndex.html', 'filetype': 'text/html'}, hash='01d00ce1baa67010cb921361004ea35db550f00efb6cea987fc2719e237ccc00')}, metadata_template='{key}: {value}', metadata_separator='\\n', text='Check out the reference documentation for a full set of all prompts.', mimetype='text/plain', start_char_idx=None, end_char_idx=None, metadata_seperator='\\n', text_template='{metadata_str}\\n\\n{content}'),\n",
       " TextNode(id_='c201cf62c979651fdf11c75fb789c675', embedding=None, metadata={'category_depth': 3, 'link_texts': '[\"#\"]', 'link_urls': '[\"#modify-prompts-used-in-index-construction\"]', 'languages': '[\"eng\"]', 'filename': 'UsagepatternLlamaIndex.html', 'filetype': 'text/html', 'parent_id': '595a6b236bae7c117115eb38660da8ed', 'sequence_number': 37}, excluded_embed_metadata_keys=[], excluded_llm_metadata_keys=[], relationships={<NodeRelationship.SOURCE: '1'>: RelatedNodeInfo(node_id='UsagepatternLlamaIndex.html', node_type=<ObjectType.DOCUMENT: '4'>, metadata={'category_depth': 0, 'languages': '[\"eng\"]', 'filename': 'UsagepatternLlamaIndex.html', 'filetype': 'text/html'}, hash='01d00ce1baa67010cb921361004ea35db550f00efb6cea987fc2719e237ccc00')}, metadata_template='{key}: {value}', metadata_separator='\\n', text='Modify prompts used in index construction#', mimetype='text/plain', start_char_idx=None, end_char_idx=None, metadata_seperator='\\n', text_template='{metadata_str}\\n\\n{content}'),\n",
       " TextNode(id_='13448da8a790f405577904da969eaa9f', embedding=None, metadata={'emphasized_text_contents': '[\"NOTE\"]', 'emphasized_text_tags': '[\"b\"]', 'languages': '[\"eng\"]', 'filename': 'UsagepatternLlamaIndex.html', 'filetype': 'text/html', 'parent_id': 'c201cf62c979651fdf11c75fb789c675', 'sequence_number': 38}, excluded_embed_metadata_keys=[], excluded_llm_metadata_keys=[], relationships={<NodeRelationship.SOURCE: '1'>: RelatedNodeInfo(node_id='UsagepatternLlamaIndex.html', node_type=<ObjectType.DOCUMENT: '4'>, metadata={'category_depth': 0, 'languages': '[\"eng\"]', 'filename': 'UsagepatternLlamaIndex.html', 'filetype': 'text/html'}, hash='01d00ce1baa67010cb921361004ea35db550f00efb6cea987fc2719e237ccc00')}, metadata_template='{key}: {value}', metadata_separator='\\n', text=\"Some indices use different types of prompts during construction (NOTE: the most common ones, VectorStoreIndex and SummaryIndex, don't use any).\", mimetype='text/plain', start_char_idx=None, end_char_idx=None, metadata_seperator='\\n', text_template='{metadata_str}\\n\\n{content}'),\n",
       " TextNode(id_='cffc19f68c9a4d64ec98bd2e57447b8f', embedding=None, metadata={'languages': '[\"eng\"]', 'filename': 'UsagepatternLlamaIndex.html', 'filetype': 'text/html', 'parent_id': 'c201cf62c979651fdf11c75fb789c675', 'sequence_number': 39}, excluded_embed_metadata_keys=[], excluded_llm_metadata_keys=[], relationships={<NodeRelationship.SOURCE: '1'>: RelatedNodeInfo(node_id='UsagepatternLlamaIndex.html', node_type=<ObjectType.DOCUMENT: '4'>, metadata={'category_depth': 0, 'languages': '[\"eng\"]', 'filename': 'UsagepatternLlamaIndex.html', 'filetype': 'text/html'}, hash='01d00ce1baa67010cb921361004ea35db550f00efb6cea987fc2719e237ccc00')}, metadata_template='{key}: {value}', metadata_separator='\\n', text='For instance, TreeIndex uses a summary prompt to hierarchically summarize the nodes, and KeywordTableIndex uses a keyword extract prompt to extract keywords.', mimetype='text/plain', start_char_idx=None, end_char_idx=None, metadata_seperator='\\n', text_template='{metadata_str}\\n\\n{content}'),\n",
       " TextNode(id_='9680d3013751fc5b611872d0603de5e1', embedding=None, metadata={'languages': '[\"eng\"]', 'filename': 'UsagepatternLlamaIndex.html', 'filetype': 'text/html', 'parent_id': 'c201cf62c979651fdf11c75fb789c675', 'sequence_number': 40}, excluded_embed_metadata_keys=[], excluded_llm_metadata_keys=[], relationships={<NodeRelationship.SOURCE: '1'>: RelatedNodeInfo(node_id='UsagepatternLlamaIndex.html', node_type=<ObjectType.DOCUMENT: '4'>, metadata={'category_depth': 0, 'languages': '[\"eng\"]', 'filename': 'UsagepatternLlamaIndex.html', 'filetype': 'text/html'}, hash='01d00ce1baa67010cb921361004ea35db550f00efb6cea987fc2719e237ccc00')}, metadata_template='{key}: {value}', metadata_separator='\\n', text='There are two equivalent ways to override the prompts:', mimetype='text/plain', start_char_idx=None, end_char_idx=None, metadata_seperator='\\n', text_template='{metadata_str}\\n\\n{content}'),\n",
       " TextNode(id_='2d0d661e114ec1bd6e1718b0e924d532', embedding=None, metadata={'category_depth': 1, 'languages': '[\"eng\"]', 'filename': 'UsagepatternLlamaIndex.html', 'filetype': 'text/html', 'parent_id': 'c201cf62c979651fdf11c75fb789c675', 'sequence_number': 41}, excluded_embed_metadata_keys=[], excluded_llm_metadata_keys=[], relationships={<NodeRelationship.SOURCE: '1'>: RelatedNodeInfo(node_id='UsagepatternLlamaIndex.html', node_type=<ObjectType.DOCUMENT: '4'>, metadata={'category_depth': 0, 'languages': '[\"eng\"]', 'filename': 'UsagepatternLlamaIndex.html', 'filetype': 'text/html'}, hash='01d00ce1baa67010cb921361004ea35db550f00efb6cea987fc2719e237ccc00')}, metadata_template='{key}: {value}', metadata_separator='\\n', text='via the default nodes constructor', mimetype='text/plain', start_char_idx=None, end_char_idx=None, metadata_seperator='\\n', text_template='{metadata_str}\\n\\n{content}'),\n",
       " TextNode(id_='01ddc7a82f9856fd8f650949f029cc9e', embedding=None, metadata={'languages': '[\"eng\"]', 'filename': 'UsagepatternLlamaIndex.html', 'filetype': 'text/html', 'parent_id': 'c201cf62c979651fdf11c75fb789c675', 'sequence_number': 42}, excluded_embed_metadata_keys=[], excluded_llm_metadata_keys=[], relationships={<NodeRelationship.SOURCE: '1'>: RelatedNodeInfo(node_id='UsagepatternLlamaIndex.html', node_type=<ObjectType.DOCUMENT: '4'>, metadata={'category_depth': 0, 'languages': '[\"eng\"]', 'filename': 'UsagepatternLlamaIndex.html', 'filetype': 'text/html'}, hash='01d00ce1baa67010cb921361004ea35db550f00efb6cea987fc2719e237ccc00')}, metadata_template='{key}: {value}', metadata_separator='\\n', text='index = TreeIndex(nodes, summary_template=custom_prompt)', mimetype='text/plain', start_char_idx=None, end_char_idx=None, metadata_seperator='\\n', text_template='{metadata_str}\\n\\n{content}'),\n",
       " TextNode(id_='f78873240e5913635e81d4c10bf2fee0', embedding=None, metadata={'category_depth': 1, 'languages': '[\"eng\"]', 'filename': 'UsagepatternLlamaIndex.html', 'filetype': 'text/html', 'parent_id': 'c201cf62c979651fdf11c75fb789c675', 'sequence_number': 43}, excluded_embed_metadata_keys=[], excluded_llm_metadata_keys=[], relationships={<NodeRelationship.SOURCE: '1'>: RelatedNodeInfo(node_id='UsagepatternLlamaIndex.html', node_type=<ObjectType.DOCUMENT: '4'>, metadata={'category_depth': 0, 'languages': '[\"eng\"]', 'filename': 'UsagepatternLlamaIndex.html', 'filetype': 'text/html'}, hash='01d00ce1baa67010cb921361004ea35db550f00efb6cea987fc2719e237ccc00')}, metadata_template='{key}: {value}', metadata_separator='\\n', text='via the documents constructor.', mimetype='text/plain', start_char_idx=None, end_char_idx=None, metadata_seperator='\\n', text_template='{metadata_str}\\n\\n{content}'),\n",
       " TextNode(id_='be872a738b583c776965e6851c4ef597', embedding=None, metadata={'languages': '[\"eng\"]', 'filename': 'UsagepatternLlamaIndex.html', 'filetype': 'text/html', 'parent_id': 'c201cf62c979651fdf11c75fb789c675', 'sequence_number': 44}, excluded_embed_metadata_keys=[], excluded_llm_metadata_keys=[], relationships={<NodeRelationship.SOURCE: '1'>: RelatedNodeInfo(node_id='UsagepatternLlamaIndex.html', node_type=<ObjectType.DOCUMENT: '4'>, metadata={'category_depth': 0, 'languages': '[\"eng\"]', 'filename': 'UsagepatternLlamaIndex.html', 'filetype': 'text/html'}, hash='01d00ce1baa67010cb921361004ea35db550f00efb6cea987fc2719e237ccc00')}, metadata_template='{key}: {value}', metadata_separator='\\n', text='index = TreeIndex.from_documents(docs, summary_template=custom_prompt)', mimetype='text/plain', start_char_idx=None, end_char_idx=None, metadata_seperator='\\n', text_template='{metadata_str}\\n\\n{content}'),\n",
       " TextNode(id_='d8fd90d4b0738b18f91037cdbae594a9', embedding=None, metadata={'link_texts': '[\"Index class references\"]', 'link_urls': '[\"../../../../api_reference/indices/\"]', 'languages': '[\"eng\"]', 'filename': 'UsagepatternLlamaIndex.html', 'filetype': 'text/html', 'parent_id': 'c201cf62c979651fdf11c75fb789c675', 'sequence_number': 45}, excluded_embed_metadata_keys=[], excluded_llm_metadata_keys=[], relationships={<NodeRelationship.SOURCE: '1'>: RelatedNodeInfo(node_id='UsagepatternLlamaIndex.html', node_type=<ObjectType.DOCUMENT: '4'>, metadata={'category_depth': 0, 'languages': '[\"eng\"]', 'filename': 'UsagepatternLlamaIndex.html', 'filetype': 'text/html'}, hash='01d00ce1baa67010cb921361004ea35db550f00efb6cea987fc2719e237ccc00')}, metadata_template='{key}: {value}', metadata_separator='\\n', text='For more details on which index uses which prompts, please visit Index class references.', mimetype='text/plain', start_char_idx=None, end_char_idx=None, metadata_seperator='\\n', text_template='{metadata_str}\\n\\n{content}'),\n",
       " TextNode(id_='655655b1b122cf23161e1b5e85518e84', embedding=None, metadata={'category_depth': 2, 'link_texts': '[\"#\"]', 'link_urls': '[\"#advanced-advanced-prompt-capabilities\"]', 'languages': '[\"eng\"]', 'filename': 'UsagepatternLlamaIndex.html', 'filetype': 'text/html', 'parent_id': '83859194a0db9e999a4279fca6be9f12', 'sequence_number': 46}, excluded_embed_metadata_keys=[], excluded_llm_metadata_keys=[], relationships={<NodeRelationship.SOURCE: '1'>: RelatedNodeInfo(node_id='UsagepatternLlamaIndex.html', node_type=<ObjectType.DOCUMENT: '4'>, metadata={'category_depth': 0, 'languages': '[\"eng\"]', 'filename': 'UsagepatternLlamaIndex.html', 'filetype': 'text/html'}, hash='01d00ce1baa67010cb921361004ea35db550f00efb6cea987fc2719e237ccc00')}, metadata_template='{key}: {value}', metadata_separator='\\n', text='[Advanced] Advanced Prompt Capabilities#', mimetype='text/plain', start_char_idx=None, end_char_idx=None, metadata_seperator='\\n', text_template='{metadata_str}\\n\\n{content}'),\n",
       " TextNode(id_='5f6b8c74e0a10c70e6ea0b35d7dc9824', embedding=None, metadata={'languages': '[\"eng\"]', 'filename': 'UsagepatternLlamaIndex.html', 'filetype': 'text/html', 'parent_id': '655655b1b122cf23161e1b5e85518e84', 'sequence_number': 47}, excluded_embed_metadata_keys=[], excluded_llm_metadata_keys=[], relationships={<NodeRelationship.SOURCE: '1'>: RelatedNodeInfo(node_id='UsagepatternLlamaIndex.html', node_type=<ObjectType.DOCUMENT: '4'>, metadata={'category_depth': 0, 'languages': '[\"eng\"]', 'filename': 'UsagepatternLlamaIndex.html', 'filetype': 'text/html'}, hash='01d00ce1baa67010cb921361004ea35db550f00efb6cea987fc2719e237ccc00')}, metadata_template='{key}: {value}', metadata_separator='\\n', text='In this section we show some advanced prompt capabilities in LlamaIndex.', mimetype='text/plain', start_char_idx=None, end_char_idx=None, metadata_seperator='\\n', text_template='{metadata_str}\\n\\n{content}'),\n",
       " TextNode(id_='3f09d99f1e02a691ba5b97d35f534879', embedding=None, metadata={'languages': '[\"eng\"]', 'filename': 'UsagepatternLlamaIndex.html', 'filetype': 'text/html', 'parent_id': '655655b1b122cf23161e1b5e85518e84', 'sequence_number': 48}, excluded_embed_metadata_keys=[], excluded_llm_metadata_keys=[], relationships={<NodeRelationship.SOURCE: '1'>: RelatedNodeInfo(node_id='UsagepatternLlamaIndex.html', node_type=<ObjectType.DOCUMENT: '4'>, metadata={'category_depth': 0, 'languages': '[\"eng\"]', 'filename': 'UsagepatternLlamaIndex.html', 'filetype': 'text/html'}, hash='01d00ce1baa67010cb921361004ea35db550f00efb6cea987fc2719e237ccc00')}, metadata_template='{key}: {value}', metadata_separator='\\n', text='Related Guides:', mimetype='text/plain', start_char_idx=None, end_char_idx=None, metadata_seperator='\\n', text_template='{metadata_str}\\n\\n{content}'),\n",
       " TextNode(id_='c98647dbe0f3a0c5da8dc1c0b380bd85', embedding=None, metadata={'category_depth': 1, 'link_texts': '[\"Advanced Prompts\"]', 'link_urls': '[\"../../../../examples/prompts/advanced_prompts/\"]', 'languages': '[\"eng\"]', 'filename': 'UsagepatternLlamaIndex.html', 'filetype': 'text/html', 'parent_id': '655655b1b122cf23161e1b5e85518e84', 'sequence_number': 49}, excluded_embed_metadata_keys=[], excluded_llm_metadata_keys=[], relationships={<NodeRelationship.SOURCE: '1'>: RelatedNodeInfo(node_id='UsagepatternLlamaIndex.html', node_type=<ObjectType.DOCUMENT: '4'>, metadata={'category_depth': 0, 'languages': '[\"eng\"]', 'filename': 'UsagepatternLlamaIndex.html', 'filetype': 'text/html'}, hash='01d00ce1baa67010cb921361004ea35db550f00efb6cea987fc2719e237ccc00')}, metadata_template='{key}: {value}', metadata_separator='\\n', text='Advanced Prompts', mimetype='text/plain', start_char_idx=None, end_char_idx=None, metadata_seperator='\\n', text_template='{metadata_str}\\n\\n{content}'),\n",
       " TextNode(id_='1949a99ebbe60554e0252be5de46b3d7', embedding=None, metadata={'category_depth': 1, 'link_texts': '[\"Prompt Engineering for RAG\"]', 'link_urls': '[\"../../../../examples/prompts/prompts_rag/\"]', 'languages': '[\"eng\"]', 'filename': 'UsagepatternLlamaIndex.html', 'filetype': 'text/html', 'parent_id': '655655b1b122cf23161e1b5e85518e84', 'sequence_number': 50}, excluded_embed_metadata_keys=[], excluded_llm_metadata_keys=[], relationships={<NodeRelationship.SOURCE: '1'>: RelatedNodeInfo(node_id='UsagepatternLlamaIndex.html', node_type=<ObjectType.DOCUMENT: '4'>, metadata={'category_depth': 0, 'languages': '[\"eng\"]', 'filename': 'UsagepatternLlamaIndex.html', 'filetype': 'text/html'}, hash='01d00ce1baa67010cb921361004ea35db550f00efb6cea987fc2719e237ccc00')}, metadata_template='{key}: {value}', metadata_separator='\\n', text='Prompt Engineering for RAG', mimetype='text/plain', start_char_idx=None, end_char_idx=None, metadata_seperator='\\n', text_template='{metadata_str}\\n\\n{content}'),\n",
       " TextNode(id_='cb00e28e41f6dbd477b0c2ceac8dcdc3', embedding=None, metadata={'category_depth': 3, 'link_texts': '[\"#\"]', 'link_urls': '[\"#partial-formatting\"]', 'languages': '[\"eng\"]', 'filename': 'UsagepatternLlamaIndex.html', 'filetype': 'text/html', 'parent_id': '655655b1b122cf23161e1b5e85518e84', 'sequence_number': 51}, excluded_embed_metadata_keys=[], excluded_llm_metadata_keys=[], relationships={<NodeRelationship.SOURCE: '1'>: RelatedNodeInfo(node_id='UsagepatternLlamaIndex.html', node_type=<ObjectType.DOCUMENT: '4'>, metadata={'category_depth': 0, 'languages': '[\"eng\"]', 'filename': 'UsagepatternLlamaIndex.html', 'filetype': 'text/html'}, hash='01d00ce1baa67010cb921361004ea35db550f00efb6cea987fc2719e237ccc00')}, metadata_template='{key}: {value}', metadata_separator='\\n', text='Partial Formatting#', mimetype='text/plain', start_char_idx=None, end_char_idx=None, metadata_seperator='\\n', text_template='{metadata_str}\\n\\n{content}'),\n",
       " TextNode(id_='9c1c793cd251e179b85a52aa5bbf9ce1', embedding=None, metadata={'languages': '[\"eng\"]', 'filename': 'UsagepatternLlamaIndex.html', 'filetype': 'text/html', 'parent_id': 'cb00e28e41f6dbd477b0c2ceac8dcdc3', 'sequence_number': 52}, excluded_embed_metadata_keys=[], excluded_llm_metadata_keys=[], relationships={<NodeRelationship.SOURCE: '1'>: RelatedNodeInfo(node_id='UsagepatternLlamaIndex.html', node_type=<ObjectType.DOCUMENT: '4'>, metadata={'category_depth': 0, 'languages': '[\"eng\"]', 'filename': 'UsagepatternLlamaIndex.html', 'filetype': 'text/html'}, hash='01d00ce1baa67010cb921361004ea35db550f00efb6cea987fc2719e237ccc00')}, metadata_template='{key}: {value}', metadata_separator='\\n', text='Partially format a prompt, filling in some variables while leaving others to be filled in later.', mimetype='text/plain', start_char_idx=None, end_char_idx=None, metadata_seperator='\\n', text_template='{metadata_str}\\n\\n{content}'),\n",
       " TextNode(id_='d97fb9915170c50259b365245ffba086', embedding=None, metadata={'languages': '[\"eng\"]', 'filename': 'UsagepatternLlamaIndex.html', 'filetype': 'text/html', 'parent_id': 'cb00e28e41f6dbd477b0c2ceac8dcdc3', 'sequence_number': 53}, excluded_embed_metadata_keys=[], excluded_llm_metadata_keys=[], relationships={<NodeRelationship.SOURCE: '1'>: RelatedNodeInfo(node_id='UsagepatternLlamaIndex.html', node_type=<ObjectType.DOCUMENT: '4'>, metadata={'category_depth': 0, 'languages': '[\"eng\"]', 'filename': 'UsagepatternLlamaIndex.html', 'filetype': 'text/html'}, hash='01d00ce1baa67010cb921361004ea35db550f00efb6cea987fc2719e237ccc00')}, metadata_template='{key}: {value}', metadata_separator='\\n', text='from llama_index.core import PromptTemplate\\n\\nprompt_tmpl_str = \"{foo} {bar}\"\\nprompt_tmpl = PromptTemplate(prompt_tmpl_str)\\npartial_prompt_tmpl = prompt_tmpl.partial_format(foo=\"abc\")\\n\\nfmt_str = partial_prompt_tmpl.format(bar=\"def\")', mimetype='text/plain', start_char_idx=None, end_char_idx=None, metadata_seperator='\\n', text_template='{metadata_str}\\n\\n{content}'),\n",
       " TextNode(id_='22ab1c06b935ba915122c307ce5eb854', embedding=None, metadata={'category_depth': 3, 'link_texts': '[\"#\"]', 'link_urls': '[\"#template-variable-mappings\"]', 'languages': '[\"eng\"]', 'filename': 'UsagepatternLlamaIndex.html', 'filetype': 'text/html', 'parent_id': '655655b1b122cf23161e1b5e85518e84', 'sequence_number': 54}, excluded_embed_metadata_keys=[], excluded_llm_metadata_keys=[], relationships={<NodeRelationship.SOURCE: '1'>: RelatedNodeInfo(node_id='UsagepatternLlamaIndex.html', node_type=<ObjectType.DOCUMENT: '4'>, metadata={'category_depth': 0, 'languages': '[\"eng\"]', 'filename': 'UsagepatternLlamaIndex.html', 'filetype': 'text/html'}, hash='01d00ce1baa67010cb921361004ea35db550f00efb6cea987fc2719e237ccc00')}, metadata_template='{key}: {value}', metadata_separator='\\n', text='Template Variable Mappings#', mimetype='text/plain', start_char_idx=None, end_char_idx=None, metadata_seperator='\\n', text_template='{metadata_str}\\n\\n{content}'),\n",
       " TextNode(id_='044f2d4231afaa4f45a06222097a5e80', embedding=None, metadata={'languages': '[\"eng\"]', 'filename': 'UsagepatternLlamaIndex.html', 'filetype': 'text/html', 'parent_id': '22ab1c06b935ba915122c307ce5eb854', 'sequence_number': 55}, excluded_embed_metadata_keys=[], excluded_llm_metadata_keys=[], relationships={<NodeRelationship.SOURCE: '1'>: RelatedNodeInfo(node_id='UsagepatternLlamaIndex.html', node_type=<ObjectType.DOCUMENT: '4'>, metadata={'category_depth': 0, 'languages': '[\"eng\"]', 'filename': 'UsagepatternLlamaIndex.html', 'filetype': 'text/html'}, hash='01d00ce1baa67010cb921361004ea35db550f00efb6cea987fc2719e237ccc00')}, metadata_template='{key}: {value}', metadata_separator='\\n', text='LlamaIndex prompt abstractions generally expect certain keys. E.g. our text_qa_prompt expects context_str for context and query_str for the user query.', mimetype='text/plain', start_char_idx=None, end_char_idx=None, metadata_seperator='\\n', text_template='{metadata_str}\\n\\n{content}'),\n",
       " TextNode(id_='d13af50fceaa5a37d664d2bb6f58a57a', embedding=None, metadata={'languages': '[\"eng\"]', 'filename': 'UsagepatternLlamaIndex.html', 'filetype': 'text/html', 'parent_id': '22ab1c06b935ba915122c307ce5eb854', 'sequence_number': 56}, excluded_embed_metadata_keys=[], excluded_llm_metadata_keys=[], relationships={<NodeRelationship.SOURCE: '1'>: RelatedNodeInfo(node_id='UsagepatternLlamaIndex.html', node_type=<ObjectType.DOCUMENT: '4'>, metadata={'category_depth': 0, 'languages': '[\"eng\"]', 'filename': 'UsagepatternLlamaIndex.html', 'filetype': 'text/html'}, hash='01d00ce1baa67010cb921361004ea35db550f00efb6cea987fc2719e237ccc00')}, metadata_template='{key}: {value}', metadata_separator='\\n', text=\"But if you're trying to adapt a string template for use with LlamaIndex, it can be annoying to change out the template variables.\", mimetype='text/plain', start_char_idx=None, end_char_idx=None, metadata_seperator='\\n', text_template='{metadata_str}\\n\\n{content}'),\n",
       " TextNode(id_='373d9c53bc5e2ef42b24c4631f8af7e7', embedding=None, metadata={'languages': '[\"eng\"]', 'filename': 'UsagepatternLlamaIndex.html', 'filetype': 'text/html', 'parent_id': '22ab1c06b935ba915122c307ce5eb854', 'sequence_number': 57}, excluded_embed_metadata_keys=[], excluded_llm_metadata_keys=[], relationships={<NodeRelationship.SOURCE: '1'>: RelatedNodeInfo(node_id='UsagepatternLlamaIndex.html', node_type=<ObjectType.DOCUMENT: '4'>, metadata={'category_depth': 0, 'languages': '[\"eng\"]', 'filename': 'UsagepatternLlamaIndex.html', 'filetype': 'text/html'}, hash='01d00ce1baa67010cb921361004ea35db550f00efb6cea987fc2719e237ccc00')}, metadata_template='{key}: {value}', metadata_separator='\\n', text='Instead, define template_var_mappings:', mimetype='text/plain', start_char_idx=None, end_char_idx=None, metadata_seperator='\\n', text_template='{metadata_str}\\n\\n{content}'),\n",
       " TextNode(id_='60f737845cc01830e4cb23c3e3f460de', embedding=None, metadata={'languages': '[\"eng\"]', 'filename': 'UsagepatternLlamaIndex.html', 'filetype': 'text/html', 'parent_id': '22ab1c06b935ba915122c307ce5eb854', 'sequence_number': 58}, excluded_embed_metadata_keys=[], excluded_llm_metadata_keys=[], relationships={<NodeRelationship.SOURCE: '1'>: RelatedNodeInfo(node_id='UsagepatternLlamaIndex.html', node_type=<ObjectType.DOCUMENT: '4'>, metadata={'category_depth': 0, 'languages': '[\"eng\"]', 'filename': 'UsagepatternLlamaIndex.html', 'filetype': 'text/html'}, hash='01d00ce1baa67010cb921361004ea35db550f00efb6cea987fc2719e237ccc00')}, metadata_template='{key}: {value}', metadata_separator='\\n', text='template_var_mappings = {\"context_str\": \"my_context\", \"query_str\": \"my_query\"}\\n\\nprompt_tmpl = PromptTemplate(\\n    qa_prompt_tmpl_str, template_var_mappings=template_var_mappings\\n)', mimetype='text/plain', start_char_idx=None, end_char_idx=None, metadata_seperator='\\n', text_template='{metadata_str}\\n\\n{content}'),\n",
       " TextNode(id_='1e09ba15534edcc3ab662248b63a808f', embedding=None, metadata={'category_depth': 3, 'link_texts': '[\"#\"]', 'link_urls': '[\"#function-mappings\"]', 'languages': '[\"eng\"]', 'filename': 'UsagepatternLlamaIndex.html', 'filetype': 'text/html', 'parent_id': '655655b1b122cf23161e1b5e85518e84', 'sequence_number': 59}, excluded_embed_metadata_keys=[], excluded_llm_metadata_keys=[], relationships={<NodeRelationship.SOURCE: '1'>: RelatedNodeInfo(node_id='UsagepatternLlamaIndex.html', node_type=<ObjectType.DOCUMENT: '4'>, metadata={'category_depth': 0, 'languages': '[\"eng\"]', 'filename': 'UsagepatternLlamaIndex.html', 'filetype': 'text/html'}, hash='01d00ce1baa67010cb921361004ea35db550f00efb6cea987fc2719e237ccc00')}, metadata_template='{key}: {value}', metadata_separator='\\n', text='Function Mappings#', mimetype='text/plain', start_char_idx=None, end_char_idx=None, metadata_seperator='\\n', text_template='{metadata_str}\\n\\n{content}'),\n",
       " TextNode(id_='6ef2555a39b3cdef9f5703d0f2e8d598', embedding=None, metadata={'languages': '[\"eng\"]', 'filename': 'UsagepatternLlamaIndex.html', 'filetype': 'text/html', 'parent_id': '1e09ba15534edcc3ab662248b63a808f', 'sequence_number': 60}, excluded_embed_metadata_keys=[], excluded_llm_metadata_keys=[], relationships={<NodeRelationship.SOURCE: '1'>: RelatedNodeInfo(node_id='UsagepatternLlamaIndex.html', node_type=<ObjectType.DOCUMENT: '4'>, metadata={'category_depth': 0, 'languages': '[\"eng\"]', 'filename': 'UsagepatternLlamaIndex.html', 'filetype': 'text/html'}, hash='01d00ce1baa67010cb921361004ea35db550f00efb6cea987fc2719e237ccc00')}, metadata_template='{key}: {value}', metadata_separator='\\n', text='Pass in functions as template variables instead of fixed values.', mimetype='text/plain', start_char_idx=None, end_char_idx=None, metadata_seperator='\\n', text_template='{metadata_str}\\n\\n{content}'),\n",
       " TextNode(id_='106ae957e6270898cd92e2d11ab4eb8f', embedding=None, metadata={'languages': '[\"eng\"]', 'filename': 'UsagepatternLlamaIndex.html', 'filetype': 'text/html', 'parent_id': '1e09ba15534edcc3ab662248b63a808f', 'sequence_number': 61}, excluded_embed_metadata_keys=[], excluded_llm_metadata_keys=[], relationships={<NodeRelationship.SOURCE: '1'>: RelatedNodeInfo(node_id='UsagepatternLlamaIndex.html', node_type=<ObjectType.DOCUMENT: '4'>, metadata={'category_depth': 0, 'languages': '[\"eng\"]', 'filename': 'UsagepatternLlamaIndex.html', 'filetype': 'text/html'}, hash='01d00ce1baa67010cb921361004ea35db550f00efb6cea987fc2719e237ccc00')}, metadata_template='{key}: {value}', metadata_separator='\\n', text='This is quite advanced and powerful; allows you to do dynamic few-shot prompting, etc.', mimetype='text/plain', start_char_idx=None, end_char_idx=None, metadata_seperator='\\n', text_template='{metadata_str}\\n\\n{content}'),\n",
       " TextNode(id_='ddc5e24880f913afee370c0608abc720', embedding=None, metadata={'languages': '[\"eng\"]', 'filename': 'UsagepatternLlamaIndex.html', 'filetype': 'text/html', 'parent_id': '1e09ba15534edcc3ab662248b63a808f', 'sequence_number': 62}, excluded_embed_metadata_keys=[], excluded_llm_metadata_keys=[], relationships={<NodeRelationship.SOURCE: '1'>: RelatedNodeInfo(node_id='UsagepatternLlamaIndex.html', node_type=<ObjectType.DOCUMENT: '4'>, metadata={'category_depth': 0, 'languages': '[\"eng\"]', 'filename': 'UsagepatternLlamaIndex.html', 'filetype': 'text/html'}, hash='01d00ce1baa67010cb921361004ea35db550f00efb6cea987fc2719e237ccc00')}, metadata_template='{key}: {value}', metadata_separator='\\n', text=\"Here's an example of reformatting the context_str.\", mimetype='text/plain', start_char_idx=None, end_char_idx=None, metadata_seperator='\\n', text_template='{metadata_str}\\n\\n{content}'),\n",
       " TextNode(id_='3b134c3c26622f1f72f06025a16f364a', embedding=None, metadata={'languages': '[\"eng\"]', 'filename': 'UsagepatternLlamaIndex.html', 'filetype': 'text/html', 'parent_id': '1e09ba15534edcc3ab662248b63a808f', 'sequence_number': 63}, excluded_embed_metadata_keys=[], excluded_llm_metadata_keys=[], relationships={<NodeRelationship.SOURCE: '1'>: RelatedNodeInfo(node_id='UsagepatternLlamaIndex.html', node_type=<ObjectType.DOCUMENT: '4'>, metadata={'category_depth': 0, 'languages': '[\"eng\"]', 'filename': 'UsagepatternLlamaIndex.html', 'filetype': 'text/html'}, hash='01d00ce1baa67010cb921361004ea35db550f00efb6cea987fc2719e237ccc00')}, metadata_template='{key}: {value}', metadata_separator='\\n', text='def format_context_fn(**kwargs):\\n    # format context with bullet points\\n    context_list = kwargs[\"context_str\"].split(\"\\\\n\\\\n\")\\n    fmtted_context = \"\\\\n\\\\n\".join([f\"- {c}\" for c in context_list])\\n    return fmtted_context\\n\\n\\nprompt_tmpl = PromptTemplate(\\n    qa_prompt_tmpl_str, function_mappings={\"context_str\": format_context_fn}\\n)\\n\\nprompt_tmpl.format(context_str=\"context\", query_str=\"query\")', mimetype='text/plain', start_char_idx=None, end_char_idx=None, metadata_seperator='\\n', text_template='{metadata_str}\\n\\n{content}')]"
      ]
     },
     "execution_count": 47,
     "metadata": {},
     "output_type": "execute_result"
    }
   ],
   "source": [
    "loaded_docs"
   ]
  },
  {
   "cell_type": "code",
   "execution_count": 42,
   "metadata": {},
   "outputs": [
    {
     "data": {
      "text/plain": [
       "[Document(id_='234af474-e1ab-472f-af39-cba2b31492d5', embedding=None, metadata={'path': 'C:\\\\Users\\\\AjaykumarKV\\\\Documents\\\\LLM_Cookbooks\\\\LLM_Examples\\\\Llamaindex_cookbooks\\\\RAG\\\\docs.llamaindex.ai\\\\AdvancedRetrievalStrategiesLlamaIndex.html'}, excluded_embed_metadata_keys=[], excluded_llm_metadata_keys=[], relationships={}, metadata_template='{key}: {value}', metadata_separator='\\n', text='', mimetype='text/plain', start_char_idx=None, end_char_idx=None, metadata_seperator='\\n', text_template='{metadata_str}\\n\\n{content}'),\n",
       " Document(id_='b51f0936-9a7f-4781-afb7-d4aa62ac997c', embedding=None, metadata={'path': 'C:\\\\Users\\\\AjaykumarKV\\\\Documents\\\\LLM_Cookbooks\\\\LLM_Examples\\\\Llamaindex_cookbooks\\\\RAG\\\\docs.llamaindex.ai\\\\BuildingPerformantRAGApplicationsforProductionLlamaIndex.html'}, excluded_embed_metadata_keys=[], excluded_llm_metadata_keys=[], relationships={}, metadata_template='{key}: {value}', metadata_separator='\\n', text='', mimetype='text/plain', start_char_idx=None, end_char_idx=None, metadata_seperator='\\n', text_template='{metadata_str}\\n\\n{content}'),\n",
       " Document(id_='9fcab27f-bfb8-451b-a664-f8ee2cdc8abf', embedding=None, metadata={'path': 'C:\\\\Users\\\\AjaykumarKV\\\\Documents\\\\LLM_Cookbooks\\\\LLM_Examples\\\\Llamaindex_cookbooks\\\\RAG\\\\docs.llamaindex.ai\\\\index.html'}, excluded_embed_metadata_keys=[], excluded_llm_metadata_keys=[], relationships={}, metadata_template='{key}: {value}', metadata_separator='\\n', text=\"LlamaIndex.TS on npm\\n\\nContributing#\\n\\nWe are open-source and always welcome contributions to the project! Check out our contributing guide for full details on how to extend the core library or add an integration to a third party like an LLM, a vector store, an agent tool and more.\\n\\nLlamaIndex Ecosystem#\\n\\nThere's more to the LlamaIndex universe! Check out some of our other projects:\\n\\nllama_deploy | Deploy your agentic workflows as production microservices\\n\\nLlamaHub | A large (and growing!) collection of custom data connectors\\n\\nSEC Insights | A LlamaIndex-powered application for financial research\\n\\ncreate-llama | A CLI tool to quickly scaffold LlamaIndex projects\", mimetype='text/plain', start_char_idx=None, end_char_idx=None, metadata_seperator='\\n', text_template='{metadata_str}\\n\\n{content}'),\n",
       " Document(id_='1338580c-cd86-415b-8c50-415d8430abd9', embedding=None, metadata={'path': 'C:\\\\Users\\\\AjaykumarKV\\\\Documents\\\\LLM_Cookbooks\\\\LLM_Examples\\\\Llamaindex_cookbooks\\\\RAG\\\\docs.llamaindex.ai\\\\NodeParserUsagePatternLlamaIndex.html'}, excluded_embed_metadata_keys=[], excluded_llm_metadata_keys=[], relationships={}, metadata_template='{key}: {value}', metadata_separator='\\n', text='', mimetype='text/plain', start_char_idx=None, end_char_idx=None, metadata_seperator='\\n', text_template='{metadata_str}\\n\\n{content}'),\n",
       " Document(id_='e497e29a-b120-4429-b018-27c4ae6cbda2', embedding=None, metadata={'path': 'C:\\\\Users\\\\AjaykumarKV\\\\Documents\\\\LLM_Cookbooks\\\\LLM_Examples\\\\Llamaindex_cookbooks\\\\RAG\\\\docs.llamaindex.ai\\\\QueryTransformationsLlamaIndex.html'}, excluded_embed_metadata_keys=[], excluded_llm_metadata_keys=[], relationships={}, metadata_template='{key}: {value}', metadata_separator='\\n', text='', mimetype='text/plain', start_char_idx=None, end_char_idx=None, metadata_seperator='\\n', text_template='{metadata_str}\\n\\n{content}'),\n",
       " Document(id_='e75abaa5-b189-4125-b180-86bc60a7675f', embedding=None, metadata={'path': 'C:\\\\Users\\\\AjaykumarKV\\\\Documents\\\\LLM_Cookbooks\\\\LLM_Examples\\\\Llamaindex_cookbooks\\\\RAG\\\\docs.llamaindex.ai\\\\UsagepatternLlamaIndex.html'}, excluded_embed_metadata_keys=[], excluded_llm_metadata_keys=[], relationships={}, metadata_template='{key}: {value}', metadata_separator='\\n', text='', mimetype='text/plain', start_char_idx=None, end_char_idx=None, metadata_seperator='\\n', text_template='{metadata_str}\\n\\n{content}')]"
      ]
     },
     "execution_count": 42,
     "metadata": {},
     "output_type": "execute_result"
    }
   ],
   "source": [
    "docs"
   ]
  },
  {
   "cell_type": "code",
   "execution_count": 46,
   "metadata": {},
   "outputs": [
    {
     "data": {
      "application/vnd.jupyter.widget-view+json": {
       "model_id": "32b0a9f9e3cd431cb04f1a4c5bab1345",
       "version_major": 2,
       "version_minor": 0
      },
      "text/plain": [
       "  0%|          | 0/6 [00:00<?, ?it/s]"
      ]
     },
     "metadata": {},
     "output_type": "display_data"
    },
    {
     "data": {
      "text/plain": [
       "TextNode(id_='ef8f5335-ffd9-4d44-ad8c-9d9667c5dfb0', embedding=None, metadata={'path': 'C:\\\\Users\\\\AjaykumarKV\\\\Documents\\\\LLM_Cookbooks\\\\LLM_Examples\\\\Llamaindex_cookbooks\\\\RAG\\\\docs.llamaindex.ai\\\\UsagepatternLlamaIndex.html'}, excluded_embed_metadata_keys=[], excluded_llm_metadata_keys=[], relationships={<NodeRelationship.SOURCE: '1'>: RelatedNodeInfo(node_id='e75abaa5-b189-4125-b180-86bc60a7675f', node_type=<ObjectType.DOCUMENT: '4'>, metadata={'path': 'C:\\\\Users\\\\AjaykumarKV\\\\Documents\\\\LLM_Cookbooks\\\\LLM_Examples\\\\Llamaindex_cookbooks\\\\RAG\\\\docs.llamaindex.ai\\\\UsagepatternLlamaIndex.html'}, hash='1af9999f3d8f60176db175fd7d9faefd6995bcef62e1976d6deda7bfbd215e51')}, metadata_template='{key}: {value}', metadata_separator='\\n', text='', mimetype='text/plain', start_char_idx=0, end_char_idx=0, metadata_seperator='\\n', text_template='{metadata_str}\\n\\n{content}')"
      ]
     },
     "execution_count": 46,
     "metadata": {},
     "output_type": "execute_result"
    }
   ],
   "source": [
    "from tqdm.notebook import tqdm\n",
    "from llama_index.core.node_parser import SentenceSplitter\n",
    "node_parser = SentenceSplitter()\n",
    "for idx, doc in enumerate(tqdm(docs)):\n",
    "        nodes = node_parser.get_nodes_from_documents([doc])\n",
    "        \n",
    "nodes[0]\n"
   ]
  },
  {
   "cell_type": "code",
   "execution_count": null,
   "metadata": {},
   "outputs": [],
   "source": []
  }
 ],
 "metadata": {
  "kernelspec": {
   "display_name": "Python 3",
   "language": "python",
   "name": "python3"
  },
  "language_info": {
   "codemirror_mode": {
    "name": "ipython",
    "version": 3
   },
   "file_extension": ".py",
   "mimetype": "text/x-python",
   "name": "python",
   "nbconvert_exporter": "python",
   "pygments_lexer": "ipython3",
   "version": "3.12.5"
  }
 },
 "nbformat": 4,
 "nbformat_minor": 2
}
